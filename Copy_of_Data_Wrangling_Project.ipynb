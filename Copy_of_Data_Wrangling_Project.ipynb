{
  "nbformat": 4,
  "nbformat_minor": 0,
  "metadata": {
    "colab": {
      "name": "Copy of Data Wrangling Project.ipynb",
      "provenance": [],
      "authorship_tag": "ABX9TyNZnjuguNzTabC04ddkK1q9",
      "include_colab_link": true
    },
    "kernelspec": {
      "name": "python3",
      "display_name": "Python 3"
    }
  },
  "cells": [
    {
      "cell_type": "markdown",
      "metadata": {
        "id": "view-in-github",
        "colab_type": "text"
      },
      "source": [
        "<a href=\"https://colab.research.google.com/github/Praveen871/Data-Wrangling/blob/master/Copy_of_Data_Wrangling_Project.ipynb\" target=\"_parent\"><img src=\"https://colab.research.google.com/assets/colab-badge.svg\" alt=\"Open In Colab\"/></a>"
      ]
    },
    {
      "cell_type": "markdown",
      "metadata": {
        "id": "pgRRKUEKcS8m",
        "colab_type": "text"
      },
      "source": [
        "# **Data Wrangling Project - Twitter Account WeRateDogs**\n",
        "\n",
        "\n"
      ]
    },
    {
      "cell_type": "markdown",
      "metadata": {
        "id": "QqR_HrZaclnE",
        "colab_type": "text"
      },
      "source": [
        "In this project I will wrangle and analyze the tweet archive of Twitter user **@dog_rates**, also known as **WeRateDogs**. WeRateDogs is a Twitter account that rates people's dogs with a humorous comment about the dog. These ratings almost always have a denominator of 10. WeRateDogs asks people to send photos of their dogs which are rated on a scale of one to ten, but are invariably given ratings in excess of the maximum, such as \"13/10\"."
      ]
    },
    {
      "cell_type": "markdown",
      "metadata": {
        "id": "Uq-3LckHcwCQ",
        "colab_type": "text"
      },
      "source": [
        "## Gather"
      ]
    },
    {
      "cell_type": "markdown",
      "metadata": {
        "id": "gN6VSuG6czSM",
        "colab_type": "text"
      },
      "source": [
        "Gather 3 pieces of data:\n",
        "* The WeRateDogs Twitter archive: twitter_archive_enhanced.csv\n",
        "* The tweet image predictions, i.e., what breed of dog (or other object, animal, etc.) is present in each tweet according to a neural network. This file (image_predictions.tsv) is hosted on Udacity's servers and should be downloaded programmatically using the Requests library and the following URL: https://d17h27t6h515a5.cloudfront.net/topher/2017/August/599fd2ad_image-predictions/image-predictions.tsv\n",
        "* Queried the Twitter API for each tweet's JSON data using Python's Tweepy library and stored each tweet's entire set of JSON data in a file called tweet_json.txt file."
      ]
    },
    {
      "cell_type": "code",
      "metadata": {
        "id": "2ABQkOVhY6K4",
        "colab_type": "code",
        "colab": {}
      },
      "source": [
        "#import libraries\n",
        "import pandas as pd\n",
        "import requests\n",
        "import tweepy\n",
        "import json\n",
        "import re\n",
        "from datetime import datetime\n",
        "import time\n",
        "from collections import Counter\n",
        "import matplotlib.pyplot as plt\n",
        "%matplotlib inline"
      ],
      "execution_count": 0,
      "outputs": []
    },
    {
      "cell_type": "code",
      "metadata": {
        "id": "iEBdLniUW1uG",
        "colab_type": "code",
        "colab": {}
      },
      "source": [
        "# Code to read csv file into colaboratory:\n",
        "!pip install -U -q PyDrive\n",
        "from pydrive.auth import GoogleAuth\n",
        "from pydrive.drive import GoogleDrive\n",
        "from google.colab import auth\n",
        "from oauth2client.client import GoogleCredentials"
      ],
      "execution_count": 0,
      "outputs": []
    },
    {
      "cell_type": "code",
      "metadata": {
        "id": "8rE4RO7CXE-m",
        "colab_type": "code",
        "colab": {}
      },
      "source": [
        "auth.authenticate_user()\n",
        "gauth = GoogleAuth()\n",
        "gauth.credentials = GoogleCredentials.get_application_default()\n",
        "drive = GoogleDrive(gauth)"
      ],
      "execution_count": 0,
      "outputs": []
    },
    {
      "cell_type": "code",
      "metadata": {
        "id": "KYqfQbOaXJp9",
        "colab_type": "code",
        "colab": {}
      },
      "source": [
        "#2.1 Get the file\n",
        "downloaded = drive.CreateFile({'id':'1U28pD0Q93m7tBOSkcOX5nA8WTBgiLd16'}) # replace the id with id of file you want to access\n",
        "downloaded.GetContentFile('twitter-archive-enhanced.csv') "
      ],
      "execution_count": 0,
      "outputs": []
    },
    {
      "cell_type": "code",
      "metadata": {
        "id": "s6PNn4APYcsU",
        "colab_type": "code",
        "colab": {}
      },
      "source": [
        "#read the twitter archive file\n",
        "twitter = pd.read_csv('twitter-archive-enhanced.csv')"
      ],
      "execution_count": 0,
      "outputs": []
    },
    {
      "cell_type": "code",
      "metadata": {
        "id": "1LqbAlCSYgB7",
        "colab_type": "code",
        "colab": {}
      },
      "source": [
        "#import the tweet image predictions using requests library\n",
        "url = 'https://d17h27t6h515a5.cloudfront.net/topher/2017/August/599fd2ad_image-predictions/image-predictions.tsv'\n",
        "response = requests.get(url)\n",
        "\n",
        "with open('image-predictions.tsv', mode = 'wb') as file:\n",
        "    file.write(response.content)\n",
        "    \n",
        "#read the image predictions file\n",
        "images = pd.read_csv('image-predictions.tsv', sep = '\\t')"
      ],
      "execution_count": 0,
      "outputs": []
    },
    {
      "cell_type": "code",
      "metadata": {
        "id": "kQR8AX94ZDRX",
        "colab_type": "code",
        "colab": {}
      },
      "source": [
        "#access Twitter API\n",
        "consumer_key = 'nUEeHOOUee42DaNHa7l3EX1wv'\n",
        "consumer_secret = 'Y232RMHyf1YCsjPLZV0LmdHrD0942AjyPHcIibYUwrtzBORkFs'\n",
        "access_token = '988144052439838722-qv8g4xTxhB1LcytyAk94oUukgcPjmJ3'\n",
        "access_secret = 'iXC8lzHUHjj5mx2EDIRHnFYEPlsLbzpjozbzASS73RpBc'\n",
        "\n",
        "auth = tweepy.OAuthHandler(consumer_key, consumer_secret)\n",
        "auth.set_access_token(access_token, access_secret)\n",
        "\n",
        "api = tweepy.API(auth, wait_on_rate_limit = True, wait_on_rate_limit_notify = True)"
      ],
      "execution_count": 0,
      "outputs": []
    },
    {
      "cell_type": "code",
      "metadata": {
        "id": "0HZhtXaBZGV4",
        "colab_type": "code",
        "outputId": "f5419022-7847-427b-a9e5-c80901fbb1fd",
        "colab": {
          "base_uri": "https://localhost:8080/",
          "height": 51
        }
      },
      "source": [
        "#add tweets to tweet_json.txt\n",
        "with open('tweet_json.txt', 'a', encoding='utf8') as f:\n",
        "    for tweet_id in twitter['tweet_id']:\n",
        "        try:\n",
        "            tweet = api.get_status(tweet_id, tweet_mode='extended')\n",
        "            json.dump(tweet._json, f)\n",
        "            f.write('\\n')\n",
        "        except:\n",
        "            continue"
      ],
      "execution_count": 0,
      "outputs": [
        {
          "output_type": "stream",
          "text": [
            "Rate limit reached. Sleeping for: 760\n",
            "Rate limit reached. Sleeping for: 760\n"
          ],
          "name": "stderr"
        }
      ]
    },
    {
      "cell_type": "code",
      "metadata": {
        "id": "jn96xdCyZI8d",
        "colab_type": "code",
        "colab": {}
      },
      "source": [
        "#append the tweets to a list\n",
        "tweets_data = []\n",
        "\n",
        "tweet_file = open('tweet_json.txt', \"r\")\n",
        "\n",
        "for line in tweet_file:\n",
        "    try:\n",
        "        tweet = json.loads(line)\n",
        "        tweets_data.append(tweet)\n",
        "    except:\n",
        "        continue\n",
        "        \n",
        "tweet_file.close()"
      ],
      "execution_count": 0,
      "outputs": []
    },
    {
      "cell_type": "code",
      "metadata": {
        "id": "dAmqlsEIaL6Z",
        "colab_type": "code",
        "colab": {}
      },
      "source": [
        "#create the json_tweets data frame\n",
        "json_tweets = pd.DataFrame()"
      ],
      "execution_count": 0,
      "outputs": []
    },
    {
      "cell_type": "code",
      "metadata": {
        "id": "1P85iAQZdC0d",
        "colab_type": "code",
        "colab": {}
      },
      "source": [
        "#add the necessary columns to the data frame\n",
        "json_tweets['id'] = list(map(lambda tweet: tweet['id'], tweets_data))\n",
        "json_tweets['retweet_count'] = list(map(lambda tweet: tweet['retweet_count'], tweets_data))\n",
        "json_tweets['favorite_count'] = list(map(lambda tweet: tweet['favorite_count'], tweets_data))"
      ],
      "execution_count": 0,
      "outputs": []
    },
    {
      "cell_type": "markdown",
      "metadata": {
        "id": "gWEaKDv9dLao",
        "colab_type": "text"
      },
      "source": [
        "## Assess"
      ]
    },
    {
      "cell_type": "markdown",
      "metadata": {
        "id": "QxReuSSJdUCs",
        "colab_type": "text"
      },
      "source": [
        "After gathering each of the above pieces of data, I assessed them visually and programmatically for quality and tidiness issues. "
      ]
    },
    {
      "cell_type": "code",
      "metadata": {
        "id": "n9oude4rdHDd",
        "colab_type": "code",
        "outputId": "c429d3b9-3664-47e5-8751-7a2e2017c3f0",
        "colab": {
          "base_uri": "https://localhost:8080/"
        }
      },
      "source": [
        "#display the the twitter archive\n",
        "twitter"
      ],
      "execution_count": 0,
      "outputs": [
        {
          "output_type": "execute_result",
          "data": {
            "text/html": [
              "<div>\n",
              "<style scoped>\n",
              "    .dataframe tbody tr th:only-of-type {\n",
              "        vertical-align: middle;\n",
              "    }\n",
              "\n",
              "    .dataframe tbody tr th {\n",
              "        vertical-align: top;\n",
              "    }\n",
              "\n",
              "    .dataframe thead th {\n",
              "        text-align: right;\n",
              "    }\n",
              "</style>\n",
              "<table border=\"1\" class=\"dataframe\">\n",
              "  <thead>\n",
              "    <tr style=\"text-align: right;\">\n",
              "      <th></th>\n",
              "      <th>tweet_id</th>\n",
              "      <th>in_reply_to_status_id</th>\n",
              "      <th>in_reply_to_user_id</th>\n",
              "      <th>timestamp</th>\n",
              "      <th>source</th>\n",
              "      <th>text</th>\n",
              "      <th>retweeted_status_id</th>\n",
              "      <th>retweeted_status_user_id</th>\n",
              "      <th>retweeted_status_timestamp</th>\n",
              "      <th>expanded_urls</th>\n",
              "      <th>rating_numerator</th>\n",
              "      <th>rating_denominator</th>\n",
              "      <th>name</th>\n",
              "      <th>doggo</th>\n",
              "      <th>floofer</th>\n",
              "      <th>pupper</th>\n",
              "      <th>puppo</th>\n",
              "    </tr>\n",
              "  </thead>\n",
              "  <tbody>\n",
              "    <tr>\n",
              "      <th>0</th>\n",
              "      <td>892420643555336193</td>\n",
              "      <td>NaN</td>\n",
              "      <td>NaN</td>\n",
              "      <td>2017-08-01 16:23:56 +0000</td>\n",
              "      <td>&lt;a href=\"http://twitter.com/download/iphone\" r...</td>\n",
              "      <td>This is Phineas. He's a mystical boy. Only eve...</td>\n",
              "      <td>NaN</td>\n",
              "      <td>NaN</td>\n",
              "      <td>NaN</td>\n",
              "      <td>https://twitter.com/dog_rates/status/892420643...</td>\n",
              "      <td>13</td>\n",
              "      <td>10</td>\n",
              "      <td>Phineas</td>\n",
              "      <td>None</td>\n",
              "      <td>None</td>\n",
              "      <td>None</td>\n",
              "      <td>None</td>\n",
              "    </tr>\n",
              "    <tr>\n",
              "      <th>1</th>\n",
              "      <td>892177421306343426</td>\n",
              "      <td>NaN</td>\n",
              "      <td>NaN</td>\n",
              "      <td>2017-08-01 00:17:27 +0000</td>\n",
              "      <td>&lt;a href=\"http://twitter.com/download/iphone\" r...</td>\n",
              "      <td>This is Tilly. She's just checking pup on you....</td>\n",
              "      <td>NaN</td>\n",
              "      <td>NaN</td>\n",
              "      <td>NaN</td>\n",
              "      <td>https://twitter.com/dog_rates/status/892177421...</td>\n",
              "      <td>13</td>\n",
              "      <td>10</td>\n",
              "      <td>Tilly</td>\n",
              "      <td>None</td>\n",
              "      <td>None</td>\n",
              "      <td>None</td>\n",
              "      <td>None</td>\n",
              "    </tr>\n",
              "    <tr>\n",
              "      <th>2</th>\n",
              "      <td>891815181378084864</td>\n",
              "      <td>NaN</td>\n",
              "      <td>NaN</td>\n",
              "      <td>2017-07-31 00:18:03 +0000</td>\n",
              "      <td>&lt;a href=\"http://twitter.com/download/iphone\" r...</td>\n",
              "      <td>This is Archie. He is a rare Norwegian Pouncin...</td>\n",
              "      <td>NaN</td>\n",
              "      <td>NaN</td>\n",
              "      <td>NaN</td>\n",
              "      <td>https://twitter.com/dog_rates/status/891815181...</td>\n",
              "      <td>12</td>\n",
              "      <td>10</td>\n",
              "      <td>Archie</td>\n",
              "      <td>None</td>\n",
              "      <td>None</td>\n",
              "      <td>None</td>\n",
              "      <td>None</td>\n",
              "    </tr>\n",
              "    <tr>\n",
              "      <th>3</th>\n",
              "      <td>891689557279858688</td>\n",
              "      <td>NaN</td>\n",
              "      <td>NaN</td>\n",
              "      <td>2017-07-30 15:58:51 +0000</td>\n",
              "      <td>&lt;a href=\"http://twitter.com/download/iphone\" r...</td>\n",
              "      <td>This is Darla. She commenced a snooze mid meal...</td>\n",
              "      <td>NaN</td>\n",
              "      <td>NaN</td>\n",
              "      <td>NaN</td>\n",
              "      <td>https://twitter.com/dog_rates/status/891689557...</td>\n",
              "      <td>13</td>\n",
              "      <td>10</td>\n",
              "      <td>Darla</td>\n",
              "      <td>None</td>\n",
              "      <td>None</td>\n",
              "      <td>None</td>\n",
              "      <td>None</td>\n",
              "    </tr>\n",
              "    <tr>\n",
              "      <th>4</th>\n",
              "      <td>891327558926688256</td>\n",
              "      <td>NaN</td>\n",
              "      <td>NaN</td>\n",
              "      <td>2017-07-29 16:00:24 +0000</td>\n",
              "      <td>&lt;a href=\"http://twitter.com/download/iphone\" r...</td>\n",
              "      <td>This is Franklin. He would like you to stop ca...</td>\n",
              "      <td>NaN</td>\n",
              "      <td>NaN</td>\n",
              "      <td>NaN</td>\n",
              "      <td>https://twitter.com/dog_rates/status/891327558...</td>\n",
              "      <td>12</td>\n",
              "      <td>10</td>\n",
              "      <td>Franklin</td>\n",
              "      <td>None</td>\n",
              "      <td>None</td>\n",
              "      <td>None</td>\n",
              "      <td>None</td>\n",
              "    </tr>\n",
              "    <tr>\n",
              "      <th>...</th>\n",
              "      <td>...</td>\n",
              "      <td>...</td>\n",
              "      <td>...</td>\n",
              "      <td>...</td>\n",
              "      <td>...</td>\n",
              "      <td>...</td>\n",
              "      <td>...</td>\n",
              "      <td>...</td>\n",
              "      <td>...</td>\n",
              "      <td>...</td>\n",
              "      <td>...</td>\n",
              "      <td>...</td>\n",
              "      <td>...</td>\n",
              "      <td>...</td>\n",
              "      <td>...</td>\n",
              "      <td>...</td>\n",
              "      <td>...</td>\n",
              "    </tr>\n",
              "    <tr>\n",
              "      <th>2351</th>\n",
              "      <td>666049248165822465</td>\n",
              "      <td>NaN</td>\n",
              "      <td>NaN</td>\n",
              "      <td>2015-11-16 00:24:50 +0000</td>\n",
              "      <td>&lt;a href=\"http://twitter.com/download/iphone\" r...</td>\n",
              "      <td>Here we have a 1949 1st generation vulpix. Enj...</td>\n",
              "      <td>NaN</td>\n",
              "      <td>NaN</td>\n",
              "      <td>NaN</td>\n",
              "      <td>https://twitter.com/dog_rates/status/666049248...</td>\n",
              "      <td>5</td>\n",
              "      <td>10</td>\n",
              "      <td>None</td>\n",
              "      <td>None</td>\n",
              "      <td>None</td>\n",
              "      <td>None</td>\n",
              "      <td>None</td>\n",
              "    </tr>\n",
              "    <tr>\n",
              "      <th>2352</th>\n",
              "      <td>666044226329800704</td>\n",
              "      <td>NaN</td>\n",
              "      <td>NaN</td>\n",
              "      <td>2015-11-16 00:04:52 +0000</td>\n",
              "      <td>&lt;a href=\"http://twitter.com/download/iphone\" r...</td>\n",
              "      <td>This is a purebred Piers Morgan. Loves to Netf...</td>\n",
              "      <td>NaN</td>\n",
              "      <td>NaN</td>\n",
              "      <td>NaN</td>\n",
              "      <td>https://twitter.com/dog_rates/status/666044226...</td>\n",
              "      <td>6</td>\n",
              "      <td>10</td>\n",
              "      <td>a</td>\n",
              "      <td>None</td>\n",
              "      <td>None</td>\n",
              "      <td>None</td>\n",
              "      <td>None</td>\n",
              "    </tr>\n",
              "    <tr>\n",
              "      <th>2353</th>\n",
              "      <td>666033412701032449</td>\n",
              "      <td>NaN</td>\n",
              "      <td>NaN</td>\n",
              "      <td>2015-11-15 23:21:54 +0000</td>\n",
              "      <td>&lt;a href=\"http://twitter.com/download/iphone\" r...</td>\n",
              "      <td>Here is a very happy pup. Big fan of well-main...</td>\n",
              "      <td>NaN</td>\n",
              "      <td>NaN</td>\n",
              "      <td>NaN</td>\n",
              "      <td>https://twitter.com/dog_rates/status/666033412...</td>\n",
              "      <td>9</td>\n",
              "      <td>10</td>\n",
              "      <td>a</td>\n",
              "      <td>None</td>\n",
              "      <td>None</td>\n",
              "      <td>None</td>\n",
              "      <td>None</td>\n",
              "    </tr>\n",
              "    <tr>\n",
              "      <th>2354</th>\n",
              "      <td>666029285002620928</td>\n",
              "      <td>NaN</td>\n",
              "      <td>NaN</td>\n",
              "      <td>2015-11-15 23:05:30 +0000</td>\n",
              "      <td>&lt;a href=\"http://twitter.com/download/iphone\" r...</td>\n",
              "      <td>This is a western brown Mitsubishi terrier. Up...</td>\n",
              "      <td>NaN</td>\n",
              "      <td>NaN</td>\n",
              "      <td>NaN</td>\n",
              "      <td>https://twitter.com/dog_rates/status/666029285...</td>\n",
              "      <td>7</td>\n",
              "      <td>10</td>\n",
              "      <td>a</td>\n",
              "      <td>None</td>\n",
              "      <td>None</td>\n",
              "      <td>None</td>\n",
              "      <td>None</td>\n",
              "    </tr>\n",
              "    <tr>\n",
              "      <th>2355</th>\n",
              "      <td>666020888022790149</td>\n",
              "      <td>NaN</td>\n",
              "      <td>NaN</td>\n",
              "      <td>2015-11-15 22:32:08 +0000</td>\n",
              "      <td>&lt;a href=\"http://twitter.com/download/iphone\" r...</td>\n",
              "      <td>Here we have a Japanese Irish Setter. Lost eye...</td>\n",
              "      <td>NaN</td>\n",
              "      <td>NaN</td>\n",
              "      <td>NaN</td>\n",
              "      <td>https://twitter.com/dog_rates/status/666020888...</td>\n",
              "      <td>8</td>\n",
              "      <td>10</td>\n",
              "      <td>None</td>\n",
              "      <td>None</td>\n",
              "      <td>None</td>\n",
              "      <td>None</td>\n",
              "      <td>None</td>\n",
              "    </tr>\n",
              "  </tbody>\n",
              "</table>\n",
              "<p>2356 rows × 17 columns</p>\n",
              "</div>"
            ],
            "text/plain": [
              "                tweet_id  in_reply_to_status_id  ...  pupper puppo\n",
              "0     892420643555336193                    NaN  ...    None  None\n",
              "1     892177421306343426                    NaN  ...    None  None\n",
              "2     891815181378084864                    NaN  ...    None  None\n",
              "3     891689557279858688                    NaN  ...    None  None\n",
              "4     891327558926688256                    NaN  ...    None  None\n",
              "...                  ...                    ...  ...     ...   ...\n",
              "2351  666049248165822465                    NaN  ...    None  None\n",
              "2352  666044226329800704                    NaN  ...    None  None\n",
              "2353  666033412701032449                    NaN  ...    None  None\n",
              "2354  666029285002620928                    NaN  ...    None  None\n",
              "2355  666020888022790149                    NaN  ...    None  None\n",
              "\n",
              "[2356 rows x 17 columns]"
            ]
          },
          "metadata": {
            "tags": []
          },
          "execution_count": 56
        }
      ]
    },
    {
      "cell_type": "code",
      "metadata": {
        "id": "v18DXn7udX5a",
        "colab_type": "code",
        "outputId": "293d6156-6b7e-45b2-ea7b-a980c74550a3",
        "colab": {
          "base_uri": "https://localhost:8080/"
        }
      },
      "source": [
        "#display the images predictions data frame\n",
        "images"
      ],
      "execution_count": 0,
      "outputs": [
        {
          "output_type": "execute_result",
          "data": {
            "text/html": [
              "<div>\n",
              "<style scoped>\n",
              "    .dataframe tbody tr th:only-of-type {\n",
              "        vertical-align: middle;\n",
              "    }\n",
              "\n",
              "    .dataframe tbody tr th {\n",
              "        vertical-align: top;\n",
              "    }\n",
              "\n",
              "    .dataframe thead th {\n",
              "        text-align: right;\n",
              "    }\n",
              "</style>\n",
              "<table border=\"1\" class=\"dataframe\">\n",
              "  <thead>\n",
              "    <tr style=\"text-align: right;\">\n",
              "      <th></th>\n",
              "      <th>tweet_id</th>\n",
              "      <th>jpg_url</th>\n",
              "      <th>img_num</th>\n",
              "      <th>p1</th>\n",
              "      <th>p1_conf</th>\n",
              "      <th>p1_dog</th>\n",
              "      <th>p2</th>\n",
              "      <th>p2_conf</th>\n",
              "      <th>p2_dog</th>\n",
              "      <th>p3</th>\n",
              "      <th>p3_conf</th>\n",
              "      <th>p3_dog</th>\n",
              "    </tr>\n",
              "  </thead>\n",
              "  <tbody>\n",
              "    <tr>\n",
              "      <th>0</th>\n",
              "      <td>666020888022790149</td>\n",
              "      <td>https://pbs.twimg.com/media/CT4udn0WwAA0aMy.jpg</td>\n",
              "      <td>1</td>\n",
              "      <td>Welsh_springer_spaniel</td>\n",
              "      <td>0.465074</td>\n",
              "      <td>True</td>\n",
              "      <td>collie</td>\n",
              "      <td>0.156665</td>\n",
              "      <td>True</td>\n",
              "      <td>Shetland_sheepdog</td>\n",
              "      <td>0.061428</td>\n",
              "      <td>True</td>\n",
              "    </tr>\n",
              "    <tr>\n",
              "      <th>1</th>\n",
              "      <td>666029285002620928</td>\n",
              "      <td>https://pbs.twimg.com/media/CT42GRgUYAA5iDo.jpg</td>\n",
              "      <td>1</td>\n",
              "      <td>redbone</td>\n",
              "      <td>0.506826</td>\n",
              "      <td>True</td>\n",
              "      <td>miniature_pinscher</td>\n",
              "      <td>0.074192</td>\n",
              "      <td>True</td>\n",
              "      <td>Rhodesian_ridgeback</td>\n",
              "      <td>0.072010</td>\n",
              "      <td>True</td>\n",
              "    </tr>\n",
              "    <tr>\n",
              "      <th>2</th>\n",
              "      <td>666033412701032449</td>\n",
              "      <td>https://pbs.twimg.com/media/CT4521TWwAEvMyu.jpg</td>\n",
              "      <td>1</td>\n",
              "      <td>German_shepherd</td>\n",
              "      <td>0.596461</td>\n",
              "      <td>True</td>\n",
              "      <td>malinois</td>\n",
              "      <td>0.138584</td>\n",
              "      <td>True</td>\n",
              "      <td>bloodhound</td>\n",
              "      <td>0.116197</td>\n",
              "      <td>True</td>\n",
              "    </tr>\n",
              "    <tr>\n",
              "      <th>3</th>\n",
              "      <td>666044226329800704</td>\n",
              "      <td>https://pbs.twimg.com/media/CT5Dr8HUEAA-lEu.jpg</td>\n",
              "      <td>1</td>\n",
              "      <td>Rhodesian_ridgeback</td>\n",
              "      <td>0.408143</td>\n",
              "      <td>True</td>\n",
              "      <td>redbone</td>\n",
              "      <td>0.360687</td>\n",
              "      <td>True</td>\n",
              "      <td>miniature_pinscher</td>\n",
              "      <td>0.222752</td>\n",
              "      <td>True</td>\n",
              "    </tr>\n",
              "    <tr>\n",
              "      <th>4</th>\n",
              "      <td>666049248165822465</td>\n",
              "      <td>https://pbs.twimg.com/media/CT5IQmsXIAAKY4A.jpg</td>\n",
              "      <td>1</td>\n",
              "      <td>miniature_pinscher</td>\n",
              "      <td>0.560311</td>\n",
              "      <td>True</td>\n",
              "      <td>Rottweiler</td>\n",
              "      <td>0.243682</td>\n",
              "      <td>True</td>\n",
              "      <td>Doberman</td>\n",
              "      <td>0.154629</td>\n",
              "      <td>True</td>\n",
              "    </tr>\n",
              "    <tr>\n",
              "      <th>...</th>\n",
              "      <td>...</td>\n",
              "      <td>...</td>\n",
              "      <td>...</td>\n",
              "      <td>...</td>\n",
              "      <td>...</td>\n",
              "      <td>...</td>\n",
              "      <td>...</td>\n",
              "      <td>...</td>\n",
              "      <td>...</td>\n",
              "      <td>...</td>\n",
              "      <td>...</td>\n",
              "      <td>...</td>\n",
              "    </tr>\n",
              "    <tr>\n",
              "      <th>2070</th>\n",
              "      <td>891327558926688256</td>\n",
              "      <td>https://pbs.twimg.com/media/DF6hr6BUMAAzZgT.jpg</td>\n",
              "      <td>2</td>\n",
              "      <td>basset</td>\n",
              "      <td>0.555712</td>\n",
              "      <td>True</td>\n",
              "      <td>English_springer</td>\n",
              "      <td>0.225770</td>\n",
              "      <td>True</td>\n",
              "      <td>German_short-haired_pointer</td>\n",
              "      <td>0.175219</td>\n",
              "      <td>True</td>\n",
              "    </tr>\n",
              "    <tr>\n",
              "      <th>2071</th>\n",
              "      <td>891689557279858688</td>\n",
              "      <td>https://pbs.twimg.com/media/DF_q7IAWsAEuuN8.jpg</td>\n",
              "      <td>1</td>\n",
              "      <td>paper_towel</td>\n",
              "      <td>0.170278</td>\n",
              "      <td>False</td>\n",
              "      <td>Labrador_retriever</td>\n",
              "      <td>0.168086</td>\n",
              "      <td>True</td>\n",
              "      <td>spatula</td>\n",
              "      <td>0.040836</td>\n",
              "      <td>False</td>\n",
              "    </tr>\n",
              "    <tr>\n",
              "      <th>2072</th>\n",
              "      <td>891815181378084864</td>\n",
              "      <td>https://pbs.twimg.com/media/DGBdLU1WsAANxJ9.jpg</td>\n",
              "      <td>1</td>\n",
              "      <td>Chihuahua</td>\n",
              "      <td>0.716012</td>\n",
              "      <td>True</td>\n",
              "      <td>malamute</td>\n",
              "      <td>0.078253</td>\n",
              "      <td>True</td>\n",
              "      <td>kelpie</td>\n",
              "      <td>0.031379</td>\n",
              "      <td>True</td>\n",
              "    </tr>\n",
              "    <tr>\n",
              "      <th>2073</th>\n",
              "      <td>892177421306343426</td>\n",
              "      <td>https://pbs.twimg.com/media/DGGmoV4XsAAUL6n.jpg</td>\n",
              "      <td>1</td>\n",
              "      <td>Chihuahua</td>\n",
              "      <td>0.323581</td>\n",
              "      <td>True</td>\n",
              "      <td>Pekinese</td>\n",
              "      <td>0.090647</td>\n",
              "      <td>True</td>\n",
              "      <td>papillon</td>\n",
              "      <td>0.068957</td>\n",
              "      <td>True</td>\n",
              "    </tr>\n",
              "    <tr>\n",
              "      <th>2074</th>\n",
              "      <td>892420643555336193</td>\n",
              "      <td>https://pbs.twimg.com/media/DGKD1-bXoAAIAUK.jpg</td>\n",
              "      <td>1</td>\n",
              "      <td>orange</td>\n",
              "      <td>0.097049</td>\n",
              "      <td>False</td>\n",
              "      <td>bagel</td>\n",
              "      <td>0.085851</td>\n",
              "      <td>False</td>\n",
              "      <td>banana</td>\n",
              "      <td>0.076110</td>\n",
              "      <td>False</td>\n",
              "    </tr>\n",
              "  </tbody>\n",
              "</table>\n",
              "<p>2075 rows × 12 columns</p>\n",
              "</div>"
            ],
            "text/plain": [
              "                tweet_id  ... p3_dog\n",
              "0     666020888022790149  ...   True\n",
              "1     666029285002620928  ...   True\n",
              "2     666033412701032449  ...   True\n",
              "3     666044226329800704  ...   True\n",
              "4     666049248165822465  ...   True\n",
              "...                  ...  ...    ...\n",
              "2070  891327558926688256  ...   True\n",
              "2071  891689557279858688  ...  False\n",
              "2072  891815181378084864  ...   True\n",
              "2073  892177421306343426  ...   True\n",
              "2074  892420643555336193  ...  False\n",
              "\n",
              "[2075 rows x 12 columns]"
            ]
          },
          "metadata": {
            "tags": []
          },
          "execution_count": 57
        }
      ]
    },
    {
      "cell_type": "code",
      "metadata": {
        "id": "bJjJ8h6HdZ3E",
        "colab_type": "code",
        "outputId": "3569f5cf-1db5-49ec-9726-f7c50187b796",
        "colab": {
          "base_uri": "https://localhost:8080/"
        }
      },
      "source": [
        "#display the json tweets data frame\n",
        "json_tweets"
      ],
      "execution_count": 0,
      "outputs": [
        {
          "output_type": "execute_result",
          "data": {
            "text/html": [
              "<div>\n",
              "<style scoped>\n",
              "    .dataframe tbody tr th:only-of-type {\n",
              "        vertical-align: middle;\n",
              "    }\n",
              "\n",
              "    .dataframe tbody tr th {\n",
              "        vertical-align: top;\n",
              "    }\n",
              "\n",
              "    .dataframe thead th {\n",
              "        text-align: right;\n",
              "    }\n",
              "</style>\n",
              "<table border=\"1\" class=\"dataframe\">\n",
              "  <thead>\n",
              "    <tr style=\"text-align: right;\">\n",
              "      <th></th>\n",
              "      <th>id</th>\n",
              "      <th>retweet_count</th>\n",
              "      <th>favorite_count</th>\n",
              "    </tr>\n",
              "  </thead>\n",
              "  <tbody>\n",
              "    <tr>\n",
              "      <th>0</th>\n",
              "      <td>892420643555336193</td>\n",
              "      <td>7725</td>\n",
              "      <td>36297</td>\n",
              "    </tr>\n",
              "    <tr>\n",
              "      <th>1</th>\n",
              "      <td>892177421306343426</td>\n",
              "      <td>5718</td>\n",
              "      <td>31301</td>\n",
              "    </tr>\n",
              "    <tr>\n",
              "      <th>2</th>\n",
              "      <td>891815181378084864</td>\n",
              "      <td>3786</td>\n",
              "      <td>23568</td>\n",
              "    </tr>\n",
              "    <tr>\n",
              "      <th>3</th>\n",
              "      <td>891689557279858688</td>\n",
              "      <td>7888</td>\n",
              "      <td>39595</td>\n",
              "    </tr>\n",
              "    <tr>\n",
              "      <th>4</th>\n",
              "      <td>891327558926688256</td>\n",
              "      <td>8506</td>\n",
              "      <td>37811</td>\n",
              "    </tr>\n",
              "    <tr>\n",
              "      <th>...</th>\n",
              "      <td>...</td>\n",
              "      <td>...</td>\n",
              "      <td>...</td>\n",
              "    </tr>\n",
              "    <tr>\n",
              "      <th>5531</th>\n",
              "      <td>666049248165822465</td>\n",
              "      <td>39</td>\n",
              "      <td>96</td>\n",
              "    </tr>\n",
              "    <tr>\n",
              "      <th>5532</th>\n",
              "      <td>666044226329800704</td>\n",
              "      <td>132</td>\n",
              "      <td>272</td>\n",
              "    </tr>\n",
              "    <tr>\n",
              "      <th>5533</th>\n",
              "      <td>666033412701032449</td>\n",
              "      <td>41</td>\n",
              "      <td>112</td>\n",
              "    </tr>\n",
              "    <tr>\n",
              "      <th>5534</th>\n",
              "      <td>666029285002620928</td>\n",
              "      <td>42</td>\n",
              "      <td>121</td>\n",
              "    </tr>\n",
              "    <tr>\n",
              "      <th>5535</th>\n",
              "      <td>666020888022790149</td>\n",
              "      <td>462</td>\n",
              "      <td>2418</td>\n",
              "    </tr>\n",
              "  </tbody>\n",
              "</table>\n",
              "<p>5536 rows × 3 columns</p>\n",
              "</div>"
            ],
            "text/plain": [
              "                      id  retweet_count  favorite_count\n",
              "0     892420643555336193           7725           36297\n",
              "1     892177421306343426           5718           31301\n",
              "2     891815181378084864           3786           23568\n",
              "3     891689557279858688           7888           39595\n",
              "4     891327558926688256           8506           37811\n",
              "...                  ...            ...             ...\n",
              "5531  666049248165822465             39              96\n",
              "5532  666044226329800704            132             272\n",
              "5533  666033412701032449             41             112\n",
              "5534  666029285002620928             42             121\n",
              "5535  666020888022790149            462            2418\n",
              "\n",
              "[5536 rows x 3 columns]"
            ]
          },
          "metadata": {
            "tags": []
          },
          "execution_count": 58
        }
      ]
    },
    {
      "cell_type": "code",
      "metadata": {
        "id": "PBKSd1XfdcEP",
        "colab_type": "code",
        "outputId": "a4e1523d-43b4-4dd7-a22e-8aacc9cd4b4e",
        "colab": {
          "base_uri": "https://localhost:8080/"
        }
      },
      "source": [
        "#display info of twitter archive\n",
        "twitter.info()"
      ],
      "execution_count": 0,
      "outputs": [
        {
          "output_type": "stream",
          "text": [
            "<class 'pandas.core.frame.DataFrame'>\n",
            "RangeIndex: 2356 entries, 0 to 2355\n",
            "Data columns (total 17 columns):\n",
            " #   Column                      Non-Null Count  Dtype  \n",
            "---  ------                      --------------  -----  \n",
            " 0   tweet_id                    2356 non-null   int64  \n",
            " 1   in_reply_to_status_id       78 non-null     float64\n",
            " 2   in_reply_to_user_id         78 non-null     float64\n",
            " 3   timestamp                   2356 non-null   object \n",
            " 4   source                      2356 non-null   object \n",
            " 5   text                        2356 non-null   object \n",
            " 6   retweeted_status_id         181 non-null    float64\n",
            " 7   retweeted_status_user_id    181 non-null    float64\n",
            " 8   retweeted_status_timestamp  181 non-null    object \n",
            " 9   expanded_urls               2297 non-null   object \n",
            " 10  rating_numerator            2356 non-null   int64  \n",
            " 11  rating_denominator          2356 non-null   int64  \n",
            " 12  name                        2356 non-null   object \n",
            " 13  doggo                       2356 non-null   object \n",
            " 14  floofer                     2356 non-null   object \n",
            " 15  pupper                      2356 non-null   object \n",
            " 16  puppo                       2356 non-null   object \n",
            "dtypes: float64(4), int64(3), object(10)\n",
            "memory usage: 313.0+ KB\n"
          ],
          "name": "stdout"
        }
      ]
    },
    {
      "cell_type": "code",
      "metadata": {
        "id": "aHPjeby8deEd",
        "colab_type": "code",
        "outputId": "b19ac88c-b04c-4134-8096-52aee2866f7c",
        "colab": {
          "base_uri": "https://localhost:8080/"
        }
      },
      "source": [
        "#display statistics for twitter archive\n",
        "twitter.describe()"
      ],
      "execution_count": 0,
      "outputs": [
        {
          "output_type": "execute_result",
          "data": {
            "text/html": [
              "<div>\n",
              "<style scoped>\n",
              "    .dataframe tbody tr th:only-of-type {\n",
              "        vertical-align: middle;\n",
              "    }\n",
              "\n",
              "    .dataframe tbody tr th {\n",
              "        vertical-align: top;\n",
              "    }\n",
              "\n",
              "    .dataframe thead th {\n",
              "        text-align: right;\n",
              "    }\n",
              "</style>\n",
              "<table border=\"1\" class=\"dataframe\">\n",
              "  <thead>\n",
              "    <tr style=\"text-align: right;\">\n",
              "      <th></th>\n",
              "      <th>tweet_id</th>\n",
              "      <th>in_reply_to_status_id</th>\n",
              "      <th>in_reply_to_user_id</th>\n",
              "      <th>retweeted_status_id</th>\n",
              "      <th>retweeted_status_user_id</th>\n",
              "      <th>rating_numerator</th>\n",
              "      <th>rating_denominator</th>\n",
              "    </tr>\n",
              "  </thead>\n",
              "  <tbody>\n",
              "    <tr>\n",
              "      <th>count</th>\n",
              "      <td>2.356000e+03</td>\n",
              "      <td>7.800000e+01</td>\n",
              "      <td>7.800000e+01</td>\n",
              "      <td>1.810000e+02</td>\n",
              "      <td>1.810000e+02</td>\n",
              "      <td>2356.000000</td>\n",
              "      <td>2356.000000</td>\n",
              "    </tr>\n",
              "    <tr>\n",
              "      <th>mean</th>\n",
              "      <td>7.427716e+17</td>\n",
              "      <td>7.455079e+17</td>\n",
              "      <td>2.014171e+16</td>\n",
              "      <td>7.720400e+17</td>\n",
              "      <td>1.241698e+16</td>\n",
              "      <td>13.126486</td>\n",
              "      <td>10.455433</td>\n",
              "    </tr>\n",
              "    <tr>\n",
              "      <th>std</th>\n",
              "      <td>6.856705e+16</td>\n",
              "      <td>7.582492e+16</td>\n",
              "      <td>1.252797e+17</td>\n",
              "      <td>6.236928e+16</td>\n",
              "      <td>9.599254e+16</td>\n",
              "      <td>45.876648</td>\n",
              "      <td>6.745237</td>\n",
              "    </tr>\n",
              "    <tr>\n",
              "      <th>min</th>\n",
              "      <td>6.660209e+17</td>\n",
              "      <td>6.658147e+17</td>\n",
              "      <td>1.185634e+07</td>\n",
              "      <td>6.661041e+17</td>\n",
              "      <td>7.832140e+05</td>\n",
              "      <td>0.000000</td>\n",
              "      <td>0.000000</td>\n",
              "    </tr>\n",
              "    <tr>\n",
              "      <th>25%</th>\n",
              "      <td>6.783989e+17</td>\n",
              "      <td>6.757419e+17</td>\n",
              "      <td>3.086374e+08</td>\n",
              "      <td>7.186315e+17</td>\n",
              "      <td>4.196984e+09</td>\n",
              "      <td>10.000000</td>\n",
              "      <td>10.000000</td>\n",
              "    </tr>\n",
              "    <tr>\n",
              "      <th>50%</th>\n",
              "      <td>7.196279e+17</td>\n",
              "      <td>7.038708e+17</td>\n",
              "      <td>4.196984e+09</td>\n",
              "      <td>7.804657e+17</td>\n",
              "      <td>4.196984e+09</td>\n",
              "      <td>11.000000</td>\n",
              "      <td>10.000000</td>\n",
              "    </tr>\n",
              "    <tr>\n",
              "      <th>75%</th>\n",
              "      <td>7.993373e+17</td>\n",
              "      <td>8.257804e+17</td>\n",
              "      <td>4.196984e+09</td>\n",
              "      <td>8.203146e+17</td>\n",
              "      <td>4.196984e+09</td>\n",
              "      <td>12.000000</td>\n",
              "      <td>10.000000</td>\n",
              "    </tr>\n",
              "    <tr>\n",
              "      <th>max</th>\n",
              "      <td>8.924206e+17</td>\n",
              "      <td>8.862664e+17</td>\n",
              "      <td>8.405479e+17</td>\n",
              "      <td>8.874740e+17</td>\n",
              "      <td>7.874618e+17</td>\n",
              "      <td>1776.000000</td>\n",
              "      <td>170.000000</td>\n",
              "    </tr>\n",
              "  </tbody>\n",
              "</table>\n",
              "</div>"
            ],
            "text/plain": [
              "           tweet_id  ...  rating_denominator\n",
              "count  2.356000e+03  ...         2356.000000\n",
              "mean   7.427716e+17  ...           10.455433\n",
              "std    6.856705e+16  ...            6.745237\n",
              "min    6.660209e+17  ...            0.000000\n",
              "25%    6.783989e+17  ...           10.000000\n",
              "50%    7.196279e+17  ...           10.000000\n",
              "75%    7.993373e+17  ...           10.000000\n",
              "max    8.924206e+17  ...          170.000000\n",
              "\n",
              "[8 rows x 7 columns]"
            ]
          },
          "metadata": {
            "tags": []
          },
          "execution_count": 60
        }
      ]
    },
    {
      "cell_type": "code",
      "metadata": {
        "id": "sn_GwQ-adgD0",
        "colab_type": "code",
        "outputId": "cacb31fc-857e-49e5-818f-e254ec4d4245",
        "colab": {
          "base_uri": "https://localhost:8080/"
        }
      },
      "source": [
        "#display info for images predictions\n",
        "images.info()"
      ],
      "execution_count": 0,
      "outputs": [
        {
          "output_type": "stream",
          "text": [
            "<class 'pandas.core.frame.DataFrame'>\n",
            "RangeIndex: 2075 entries, 0 to 2074\n",
            "Data columns (total 12 columns):\n",
            " #   Column    Non-Null Count  Dtype  \n",
            "---  ------    --------------  -----  \n",
            " 0   tweet_id  2075 non-null   int64  \n",
            " 1   jpg_url   2075 non-null   object \n",
            " 2   img_num   2075 non-null   int64  \n",
            " 3   p1        2075 non-null   object \n",
            " 4   p1_conf   2075 non-null   float64\n",
            " 5   p1_dog    2075 non-null   bool   \n",
            " 6   p2        2075 non-null   object \n",
            " 7   p2_conf   2075 non-null   float64\n",
            " 8   p2_dog    2075 non-null   bool   \n",
            " 9   p3        2075 non-null   object \n",
            " 10  p3_conf   2075 non-null   float64\n",
            " 11  p3_dog    2075 non-null   bool   \n",
            "dtypes: bool(3), float64(3), int64(2), object(4)\n",
            "memory usage: 152.1+ KB\n"
          ],
          "name": "stdout"
        }
      ]
    },
    {
      "cell_type": "code",
      "metadata": {
        "id": "iNQhBnvCdiM-",
        "colab_type": "code",
        "outputId": "255249e2-1278-4ae7-c9d8-9b4891c95251",
        "colab": {
          "base_uri": "https://localhost:8080/"
        }
      },
      "source": [
        "#display statistics for images predictions\n",
        "images.describe()"
      ],
      "execution_count": 0,
      "outputs": [
        {
          "output_type": "execute_result",
          "data": {
            "text/html": [
              "<div>\n",
              "<style scoped>\n",
              "    .dataframe tbody tr th:only-of-type {\n",
              "        vertical-align: middle;\n",
              "    }\n",
              "\n",
              "    .dataframe tbody tr th {\n",
              "        vertical-align: top;\n",
              "    }\n",
              "\n",
              "    .dataframe thead th {\n",
              "        text-align: right;\n",
              "    }\n",
              "</style>\n",
              "<table border=\"1\" class=\"dataframe\">\n",
              "  <thead>\n",
              "    <tr style=\"text-align: right;\">\n",
              "      <th></th>\n",
              "      <th>tweet_id</th>\n",
              "      <th>img_num</th>\n",
              "      <th>p1_conf</th>\n",
              "      <th>p2_conf</th>\n",
              "      <th>p3_conf</th>\n",
              "    </tr>\n",
              "  </thead>\n",
              "  <tbody>\n",
              "    <tr>\n",
              "      <th>count</th>\n",
              "      <td>2.075000e+03</td>\n",
              "      <td>2075.000000</td>\n",
              "      <td>2075.000000</td>\n",
              "      <td>2.075000e+03</td>\n",
              "      <td>2.075000e+03</td>\n",
              "    </tr>\n",
              "    <tr>\n",
              "      <th>mean</th>\n",
              "      <td>7.384514e+17</td>\n",
              "      <td>1.203855</td>\n",
              "      <td>0.594548</td>\n",
              "      <td>1.345886e-01</td>\n",
              "      <td>6.032417e-02</td>\n",
              "    </tr>\n",
              "    <tr>\n",
              "      <th>std</th>\n",
              "      <td>6.785203e+16</td>\n",
              "      <td>0.561875</td>\n",
              "      <td>0.271174</td>\n",
              "      <td>1.006657e-01</td>\n",
              "      <td>5.090593e-02</td>\n",
              "    </tr>\n",
              "    <tr>\n",
              "      <th>min</th>\n",
              "      <td>6.660209e+17</td>\n",
              "      <td>1.000000</td>\n",
              "      <td>0.044333</td>\n",
              "      <td>1.011300e-08</td>\n",
              "      <td>1.740170e-10</td>\n",
              "    </tr>\n",
              "    <tr>\n",
              "      <th>25%</th>\n",
              "      <td>6.764835e+17</td>\n",
              "      <td>1.000000</td>\n",
              "      <td>0.364412</td>\n",
              "      <td>5.388625e-02</td>\n",
              "      <td>1.622240e-02</td>\n",
              "    </tr>\n",
              "    <tr>\n",
              "      <th>50%</th>\n",
              "      <td>7.119988e+17</td>\n",
              "      <td>1.000000</td>\n",
              "      <td>0.588230</td>\n",
              "      <td>1.181810e-01</td>\n",
              "      <td>4.944380e-02</td>\n",
              "    </tr>\n",
              "    <tr>\n",
              "      <th>75%</th>\n",
              "      <td>7.932034e+17</td>\n",
              "      <td>1.000000</td>\n",
              "      <td>0.843855</td>\n",
              "      <td>1.955655e-01</td>\n",
              "      <td>9.180755e-02</td>\n",
              "    </tr>\n",
              "    <tr>\n",
              "      <th>max</th>\n",
              "      <td>8.924206e+17</td>\n",
              "      <td>4.000000</td>\n",
              "      <td>1.000000</td>\n",
              "      <td>4.880140e-01</td>\n",
              "      <td>2.734190e-01</td>\n",
              "    </tr>\n",
              "  </tbody>\n",
              "</table>\n",
              "</div>"
            ],
            "text/plain": [
              "           tweet_id      img_num      p1_conf       p2_conf       p3_conf\n",
              "count  2.075000e+03  2075.000000  2075.000000  2.075000e+03  2.075000e+03\n",
              "mean   7.384514e+17     1.203855     0.594548  1.345886e-01  6.032417e-02\n",
              "std    6.785203e+16     0.561875     0.271174  1.006657e-01  5.090593e-02\n",
              "min    6.660209e+17     1.000000     0.044333  1.011300e-08  1.740170e-10\n",
              "25%    6.764835e+17     1.000000     0.364412  5.388625e-02  1.622240e-02\n",
              "50%    7.119988e+17     1.000000     0.588230  1.181810e-01  4.944380e-02\n",
              "75%    7.932034e+17     1.000000     0.843855  1.955655e-01  9.180755e-02\n",
              "max    8.924206e+17     4.000000     1.000000  4.880140e-01  2.734190e-01"
            ]
          },
          "metadata": {
            "tags": []
          },
          "execution_count": 62
        }
      ]
    },
    {
      "cell_type": "code",
      "metadata": {
        "id": "0xoLre2vdkfw",
        "colab_type": "code",
        "outputId": "73e0b052-5450-4e8d-e718-8b57da41bfbc",
        "colab": {
          "base_uri": "https://localhost:8080/"
        }
      },
      "source": [
        "#display info for json tweets\n",
        "json_tweets.info()"
      ],
      "execution_count": 0,
      "outputs": [
        {
          "output_type": "stream",
          "text": [
            "<class 'pandas.core.frame.DataFrame'>\n",
            "RangeIndex: 5536 entries, 0 to 5535\n",
            "Data columns (total 3 columns):\n",
            " #   Column          Non-Null Count  Dtype\n",
            "---  ------          --------------  -----\n",
            " 0   id              5536 non-null   int64\n",
            " 1   retweet_count   5536 non-null   int64\n",
            " 2   favorite_count  5536 non-null   int64\n",
            "dtypes: int64(3)\n",
            "memory usage: 129.9 KB\n"
          ],
          "name": "stdout"
        }
      ]
    },
    {
      "cell_type": "code",
      "metadata": {
        "id": "akJ74TLUdmq-",
        "colab_type": "code",
        "outputId": "27a37620-e5c5-44c3-c78f-a0ec9255a703",
        "colab": {
          "base_uri": "https://localhost:8080/"
        }
      },
      "source": [
        "#display statistics for json_tweets\n",
        "json_tweets.describe()"
      ],
      "execution_count": 0,
      "outputs": [
        {
          "output_type": "execute_result",
          "data": {
            "text/html": [
              "<div>\n",
              "<style scoped>\n",
              "    .dataframe tbody tr th:only-of-type {\n",
              "        vertical-align: middle;\n",
              "    }\n",
              "\n",
              "    .dataframe tbody tr th {\n",
              "        vertical-align: top;\n",
              "    }\n",
              "\n",
              "    .dataframe thead th {\n",
              "        text-align: right;\n",
              "    }\n",
              "</style>\n",
              "<table border=\"1\" class=\"dataframe\">\n",
              "  <thead>\n",
              "    <tr style=\"text-align: right;\">\n",
              "      <th></th>\n",
              "      <th>id</th>\n",
              "      <th>retweet_count</th>\n",
              "      <th>favorite_count</th>\n",
              "    </tr>\n",
              "  </thead>\n",
              "  <tbody>\n",
              "    <tr>\n",
              "      <th>count</th>\n",
              "      <td>5.536000e+03</td>\n",
              "      <td>5536.000000</td>\n",
              "      <td>5536.000000</td>\n",
              "    </tr>\n",
              "    <tr>\n",
              "      <th>mean</th>\n",
              "      <td>7.542594e+17</td>\n",
              "      <td>3035.130238</td>\n",
              "      <td>8577.076048</td>\n",
              "    </tr>\n",
              "    <tr>\n",
              "      <th>std</th>\n",
              "      <td>7.033537e+16</td>\n",
              "      <td>4775.473052</td>\n",
              "      <td>12470.139306</td>\n",
              "    </tr>\n",
              "    <tr>\n",
              "      <th>min</th>\n",
              "      <td>6.660209e+17</td>\n",
              "      <td>1.000000</td>\n",
              "      <td>0.000000</td>\n",
              "    </tr>\n",
              "    <tr>\n",
              "      <th>25%</th>\n",
              "      <td>6.829238e+17</td>\n",
              "      <td>624.000000</td>\n",
              "      <td>1395.000000</td>\n",
              "    </tr>\n",
              "    <tr>\n",
              "      <th>50%</th>\n",
              "      <td>7.501095e+17</td>\n",
              "      <td>1609.000000</td>\n",
              "      <td>3886.000000</td>\n",
              "    </tr>\n",
              "    <tr>\n",
              "      <th>75%</th>\n",
              "      <td>8.159907e+17</td>\n",
              "      <td>3563.000000</td>\n",
              "      <td>11221.000000</td>\n",
              "    </tr>\n",
              "    <tr>\n",
              "      <th>max</th>\n",
              "      <td>8.924206e+17</td>\n",
              "      <td>78064.000000</td>\n",
              "      <td>156653.000000</td>\n",
              "    </tr>\n",
              "  </tbody>\n",
              "</table>\n",
              "</div>"
            ],
            "text/plain": [
              "                 id  retweet_count  favorite_count\n",
              "count  5.536000e+03    5536.000000     5536.000000\n",
              "mean   7.542594e+17    3035.130238     8577.076048\n",
              "std    7.033537e+16    4775.473052    12470.139306\n",
              "min    6.660209e+17       1.000000        0.000000\n",
              "25%    6.829238e+17     624.000000     1395.000000\n",
              "50%    7.501095e+17    1609.000000     3886.000000\n",
              "75%    8.159907e+17    3563.000000    11221.000000\n",
              "max    8.924206e+17   78064.000000   156653.000000"
            ]
          },
          "metadata": {
            "tags": []
          },
          "execution_count": 64
        }
      ]
    },
    {
      "cell_type": "code",
      "metadata": {
        "id": "qjWLuAlidyPz",
        "colab_type": "code",
        "outputId": "b8d67509-3b15-4b24-9dd6-d077f174d1aa",
        "colab": {
          "base_uri": "https://localhost:8080/"
        }
      },
      "source": [
        "#check the number of sources in twitter archive\n",
        "twitter.source.value_counts()"
      ],
      "execution_count": 0,
      "outputs": [
        {
          "output_type": "execute_result",
          "data": {
            "text/plain": [
              "<a href=\"http://twitter.com/download/iphone\" rel=\"nofollow\">Twitter for iPhone</a>     2221\n",
              "<a href=\"http://vine.co\" rel=\"nofollow\">Vine - Make a Scene</a>                          91\n",
              "<a href=\"http://twitter.com\" rel=\"nofollow\">Twitter Web Client</a>                       33\n",
              "<a href=\"https://about.twitter.com/products/tweetdeck\" rel=\"nofollow\">TweetDeck</a>      11\n",
              "Name: source, dtype: int64"
            ]
          },
          "metadata": {
            "tags": []
          },
          "execution_count": 65
        }
      ]
    },
    {
      "cell_type": "code",
      "metadata": {
        "id": "Mc-HZLVId0Eu",
        "colab_type": "code",
        "outputId": "7628ab79-e488-4295-d705-e2fd2931c635",
        "colab": {
          "base_uri": "https://localhost:8080/"
        }
      },
      "source": [
        "#check if there are any duplicate tweet ids in twitter archive\n",
        "sum(twitter.tweet_id.duplicated())"
      ],
      "execution_count": 0,
      "outputs": [
        {
          "output_type": "execute_result",
          "data": {
            "text/plain": [
              "0"
            ]
          },
          "metadata": {
            "tags": []
          },
          "execution_count": 66
        }
      ]
    },
    {
      "cell_type": "code",
      "metadata": {
        "id": "WeT7Ejczd2CN",
        "colab_type": "code",
        "outputId": "a9bb6419-662b-4981-f092-bbdda8442e8b",
        "colab": {
          "base_uri": "https://localhost:8080/"
        }
      },
      "source": [
        "#check names in twitter archive\n",
        "twitter.name.value_counts()"
      ],
      "execution_count": 0,
      "outputs": [
        {
          "output_type": "execute_result",
          "data": {
            "text/plain": [
              "None       745\n",
              "a           55\n",
              "Charlie     12\n",
              "Lucy        11\n",
              "Oliver      11\n",
              "          ... \n",
              "life         1\n",
              "Timofy       1\n",
              "Iggy         1\n",
              "Anna         1\n",
              "Kendall      1\n",
              "Name: name, Length: 957, dtype: int64"
            ]
          },
          "metadata": {
            "tags": []
          },
          "execution_count": 67
        }
      ]
    },
    {
      "cell_type": "code",
      "metadata": {
        "id": "aVYsQo5Pd3-o",
        "colab_type": "code",
        "outputId": "3e7410e3-e8d7-4b79-c926-5471bda1c928",
        "colab": {
          "base_uri": "https://localhost:8080/"
        }
      },
      "source": [
        "#sort names\n",
        "twitter.name.sort_values()"
      ],
      "execution_count": 0,
      "outputs": [
        {
          "output_type": "execute_result",
          "data": {
            "text/plain": [
              "1035     Abby\n",
              "1021     Abby\n",
              "938       Ace\n",
              "1933     Acro\n",
              "1327    Adele\n",
              "        ...  \n",
              "1031     very\n",
              "773      very\n",
              "1097     very\n",
              "819      very\n",
              "1385     very\n",
              "Name: name, Length: 2356, dtype: object"
            ]
          },
          "metadata": {
            "tags": []
          },
          "execution_count": 68
        }
      ]
    },
    {
      "cell_type": "code",
      "metadata": {
        "id": "Ca2M8ohGd6Bi",
        "colab_type": "code",
        "outputId": "6a55b508-c170-4db0-9016-d33c0024d165",
        "colab": {
          "base_uri": "https://localhost:8080/"
        }
      },
      "source": [
        "#check the number of images\n",
        "images.img_num.value_counts()"
      ],
      "execution_count": 0,
      "outputs": [
        {
          "output_type": "execute_result",
          "data": {
            "text/plain": [
              "1    1780\n",
              "2     198\n",
              "3      66\n",
              "4      31\n",
              "Name: img_num, dtype: int64"
            ]
          },
          "metadata": {
            "tags": []
          },
          "execution_count": 69
        }
      ]
    },
    {
      "cell_type": "code",
      "metadata": {
        "id": "0kC4WGpjd7xc",
        "colab_type": "code",
        "outputId": "7bb1fc8c-925e-47c2-97e1-24d042550981",
        "colab": {
          "base_uri": "https://localhost:8080/"
        }
      },
      "source": [
        "#check if there are any duplicates tweet_ids in images dataframe\n",
        "sum(images.tweet_id.duplicated())"
      ],
      "execution_count": 0,
      "outputs": [
        {
          "output_type": "execute_result",
          "data": {
            "text/plain": [
              "0"
            ]
          },
          "metadata": {
            "tags": []
          },
          "execution_count": 70
        }
      ]
    },
    {
      "cell_type": "code",
      "metadata": {
        "id": "n8v5WbI3d9zx",
        "colab_type": "code",
        "outputId": "7a646fc7-4567-4706-86b0-f234bfe01f67",
        "colab": {
          "base_uri": "https://localhost:8080/"
        }
      },
      "source": [
        "#check duplicates ids in json tweets\n",
        "sum(json_tweets.id.duplicated())"
      ],
      "execution_count": 0,
      "outputs": [
        {
          "output_type": "execute_result",
          "data": {
            "text/plain": [
              "3205"
            ]
          },
          "metadata": {
            "tags": []
          },
          "execution_count": 71
        }
      ]
    },
    {
      "cell_type": "markdown",
      "metadata": {
        "id": "Q39VZGmVfgEC",
        "colab_type": "text"
      },
      "source": [
        "## **Quality**"
      ]
    },
    {
      "cell_type": "markdown",
      "metadata": {
        "id": "YnWlyljafnjK",
        "colab_type": "text"
      },
      "source": [
        "`twitter` data frame"
      ]
    },
    {
      "cell_type": "markdown",
      "metadata": {
        "id": "GV9_mc6Cfxd5",
        "colab_type": "text"
      },
      "source": [
        "* Text lines contain links\n",
        "* timestamp column is a string\n",
        "* Missing dog names (replaced with 'None')\n",
        "* Incorrect dog names\n",
        "* Rating denominator higher than 10\n",
        "* Retweets present in the file: texts start with \"RT @\"\n",
        "* \"&amp\" characters present in text "
      ]
    },
    {
      "cell_type": "markdown",
      "metadata": {
        "id": "6JX86mbOf1fv",
        "colab_type": "text"
      },
      "source": [
        "`images` data frame\n",
        "* Some breed names have the first letter lowercase in p1, p2, p3 columns"
      ]
    },
    {
      "cell_type": "markdown",
      "metadata": {
        "id": "RU016e1Wf4-S",
        "colab_type": "text"
      },
      "source": [
        "## **Tidiness**"
      ]
    },
    {
      "cell_type": "markdown",
      "metadata": {
        "id": "JE_dEHy8gBXe",
        "colab_type": "text"
      },
      "source": [
        "* Irrelevant columns in `twitter` data frame: \"in_reply_to_status_id\", \"in_reply_to_user_id\", \"source\", \"retweeted_status_id\", \"retweeted_status_user_id\", \"retweeted_status_timestamp\"\n",
        "* Column name timestamp to be renamed in `twitter` data frame\n",
        "* Column name \"expanded_url\" not explicit enough in `twitter` data frame\n",
        "* Dog stages split into 4 different columns in `twitter` dataframe\n",
        "* \"id\" column name from `json_tweets` data frame not aligned with the rest of data frames\n",
        "* 3 separate data frames\n"
      ]
    },
    {
      "cell_type": "markdown",
      "metadata": {
        "id": "3GRFElJfgRx0",
        "colab_type": "text"
      },
      "source": [
        "## **Clean**"
      ]
    },
    {
      "cell_type": "markdown",
      "metadata": {
        "id": "f17SytVigaHg",
        "colab_type": "text"
      },
      "source": [
        "Cleaned each of the issues I documented while assessing."
      ]
    },
    {
      "cell_type": "code",
      "metadata": {
        "id": "TljT2YUEd_sK",
        "colab_type": "code",
        "colab": {}
      },
      "source": [
        "#create copies of the 3 data frames\n",
        "twitter_clean = twitter.copy()\n",
        "images_clean = images.copy()\n",
        "json_clean = json_tweets.copy()"
      ],
      "execution_count": 0,
      "outputs": []
    },
    {
      "cell_type": "markdown",
      "metadata": {
        "id": "HPh3ISnLg1sO",
        "colab_type": "text"
      },
      "source": [
        "## Quality"
      ]
    },
    {
      "cell_type": "markdown",
      "metadata": {
        "id": "8f6ltiCrkJHD",
        "colab_type": "text"
      },
      "source": [
        "`twitter`: **Text lines contain links**"
      ]
    },
    {
      "cell_type": "markdown",
      "metadata": {
        "id": "dh8THMAskLEd",
        "colab_type": "text"
      },
      "source": [
        "***Define***\n",
        "\n",
        "Remove the links contained in the text lines."
      ]
    },
    {
      "cell_type": "markdown",
      "metadata": {
        "id": "pyEM3kUVkNPv",
        "colab_type": "text"
      },
      "source": [
        "***Code***"
      ]
    },
    {
      "cell_type": "code",
      "metadata": {
        "id": "7KJESPqjgwcz",
        "colab_type": "code",
        "colab": {}
      },
      "source": [
        "#create a regex pattern in order to define the URLs that are present in the text column\n",
        "pattern = r\"http\\S+\""
      ],
      "execution_count": 0,
      "outputs": []
    },
    {
      "cell_type": "code",
      "metadata": {
        "id": "gKsiiAwAkRr6",
        "colab_type": "code",
        "colab": {}
      },
      "source": [
        "#write a for loop to remove all URLs from line texts\n",
        "clean_text = []\n",
        "\n",
        "for line in twitter_clean['text']:\n",
        "    clean_text.append(re.sub(pattern, \"\", line))\n",
        "    \n",
        "twitter_clean['text'] = clean_text"
      ],
      "execution_count": 0,
      "outputs": []
    },
    {
      "cell_type": "markdown",
      "metadata": {
        "id": "tQBYmNYmk6V9",
        "colab_type": "text"
      },
      "source": [
        "***Test***"
      ]
    },
    {
      "cell_type": "code",
      "metadata": {
        "id": "ZkKX9OGNkT0u",
        "colab_type": "code",
        "outputId": "7410bde3-4b1a-429f-b5bd-f9fe987ede07",
        "colab": {
          "base_uri": "https://localhost:8080/",
          "height": 34
        }
      },
      "source": [
        "#check the new variable text ans select a random row\n",
        "twitter_clean['text'][1445]"
      ],
      "execution_count": 0,
      "outputs": [
        {
          "output_type": "execute_result",
          "data": {
            "text/plain": [
              "'Oh my god 10/10 for every little hot dog pupper'"
            ]
          },
          "metadata": {
            "tags": []
          },
          "execution_count": 75
        }
      ]
    },
    {
      "cell_type": "markdown",
      "metadata": {
        "id": "OBOuQbupk9m-",
        "colab_type": "text"
      },
      "source": [
        "`twitter`: **timestamp column is a string**"
      ]
    },
    {
      "cell_type": "markdown",
      "metadata": {
        "id": "LtSgE6AGlCk8",
        "colab_type": "text"
      },
      "source": [
        "***Define***\n",
        "\n",
        "Convert timestamp column from string to date."
      ]
    },
    {
      "cell_type": "markdown",
      "metadata": {
        "id": "tt0rDye2lFT6",
        "colab_type": "text"
      },
      "source": [
        "***Code***"
      ]
    },
    {
      "cell_type": "code",
      "metadata": {
        "id": "ndcAFXTnk12-",
        "colab_type": "code",
        "colab": {}
      },
      "source": [
        "#create a for loop to convert each string timestamp to a date\n",
        "dates = []\n",
        "\n",
        "for date in twitter_clean['timestamp']:\n",
        "    dates.append(datetime.strptime(date, \"%Y-%m-%d %H:%M:%S +0000\").date())\n",
        "    \n",
        "    \n",
        "twitter_clean['timestamp'] = dates"
      ],
      "execution_count": 0,
      "outputs": []
    },
    {
      "cell_type": "markdown",
      "metadata": {
        "id": "l0-z1g_tlIn4",
        "colab_type": "text"
      },
      "source": [
        "***Test***"
      ]
    },
    {
      "cell_type": "code",
      "metadata": {
        "id": "iwyqRfG1lKcD",
        "colab_type": "code",
        "outputId": "3d834175-2096-4c13-b2ff-d0bbb11ac554",
        "colab": {
          "base_uri": "https://localhost:8080/",
          "height": 102
        }
      },
      "source": [
        "#check column timestamp\n",
        "twitter_clean['timestamp'].sample(4)"
      ],
      "execution_count": 0,
      "outputs": [
        {
          "output_type": "execute_result",
          "data": {
            "text/plain": [
              "1858    2015-12-12\n",
              "1087    2016-06-01\n",
              "2294    2015-11-19\n",
              "199     2017-04-17\n",
              "Name: timestamp, dtype: object"
            ]
          },
          "metadata": {
            "tags": []
          },
          "execution_count": 77
        }
      ]
    },
    {
      "cell_type": "markdown",
      "metadata": {
        "id": "hnats01dlQ9L",
        "colab_type": "text"
      },
      "source": [
        "`twitter`: **Missing dog names (replaced with 'None')**"
      ]
    },
    {
      "cell_type": "markdown",
      "metadata": {
        "id": "9jGdqBaplTt9",
        "colab_type": "text"
      },
      "source": [
        "***Define***\n",
        "\n",
        "Remove the lines that have the name of the dog \"None\"."
      ]
    },
    {
      "cell_type": "markdown",
      "metadata": {
        "id": "alOGjMtHlV6t",
        "colab_type": "text"
      },
      "source": [
        "***Code***"
      ]
    },
    {
      "cell_type": "code",
      "metadata": {
        "id": "oklXM_QilZsE",
        "colab_type": "code",
        "outputId": "ceca06c1-57cc-401a-dcf9-ed6e80abbde9",
        "colab": {
          "base_uri": "https://localhost:8080/",
          "height": 34
        }
      },
      "source": [
        "#count the number of lines that have the name of the dog \"None\"\n",
        "sum(twitter_clean.name == \"None\")"
      ],
      "execution_count": 0,
      "outputs": [
        {
          "output_type": "execute_result",
          "data": {
            "text/plain": [
              "745"
            ]
          },
          "metadata": {
            "tags": []
          },
          "execution_count": 78
        }
      ]
    },
    {
      "cell_type": "code",
      "metadata": {
        "id": "Lry4hmW0lbeQ",
        "colab_type": "code",
        "colab": {}
      },
      "source": [
        "#remove these lines\n",
        "twitter_clean = twitter_clean[twitter_clean.name != \"None\"]"
      ],
      "execution_count": 0,
      "outputs": []
    },
    {
      "cell_type": "markdown",
      "metadata": {
        "id": "D94R2-_VldSK",
        "colab_type": "text"
      },
      "source": [
        "###Test###"
      ]
    },
    {
      "cell_type": "code",
      "metadata": {
        "id": "EdRosn3ylgiE",
        "colab_type": "code",
        "outputId": "7f4bb21c-5b86-4c86-e76a-721c8da91b88",
        "colab": {
          "base_uri": "https://localhost:8080/",
          "height": 34
        }
      },
      "source": [
        "#check if there are any \"None\" names left\n",
        "sum(twitter_clean.name == \"None\")"
      ],
      "execution_count": 0,
      "outputs": [
        {
          "output_type": "execute_result",
          "data": {
            "text/plain": [
              "0"
            ]
          },
          "metadata": {
            "tags": []
          },
          "execution_count": 80
        }
      ]
    },
    {
      "cell_type": "markdown",
      "metadata": {
        "id": "PGq03usjljI0",
        "colab_type": "text"
      },
      "source": [
        "`twitter`: **Incorrect dog names**"
      ]
    },
    {
      "cell_type": "markdown",
      "metadata": {
        "id": "da5y5Y-PlmMS",
        "colab_type": "text"
      },
      "source": [
        "***Define***\n",
        "\n",
        "Remove the lines that have incorrect dog names."
      ]
    },
    {
      "cell_type": "markdown",
      "metadata": {
        "id": "9bsC1qG4lniv",
        "colab_type": "text"
      },
      "source": [
        "###Code###"
      ]
    },
    {
      "cell_type": "code",
      "metadata": {
        "id": "jMZ2dO1Hlqro",
        "colab_type": "code",
        "outputId": "8cb280fc-d68b-403b-bbf1-2c7fe21d2148",
        "colab": {
          "base_uri": "https://localhost:8080/",
          "height": 442
        }
      },
      "source": [
        "#find the lower case names in twitter clean and confirm they are not real names\n",
        "lower = []\n",
        "\n",
        "for word in twitter_clean['name']:\n",
        "    if word.islower():\n",
        "         lower.append(word)\n",
        "            \n",
        "Counter(lower)"
      ],
      "execution_count": 0,
      "outputs": [
        {
          "output_type": "execute_result",
          "data": {
            "text/plain": [
              "Counter({'a': 55,\n",
              "         'actually': 2,\n",
              "         'all': 1,\n",
              "         'an': 7,\n",
              "         'by': 1,\n",
              "         'getting': 2,\n",
              "         'his': 1,\n",
              "         'incredibly': 1,\n",
              "         'infuriating': 1,\n",
              "         'just': 4,\n",
              "         'life': 1,\n",
              "         'light': 1,\n",
              "         'mad': 2,\n",
              "         'my': 1,\n",
              "         'not': 2,\n",
              "         'officially': 1,\n",
              "         'old': 1,\n",
              "         'one': 4,\n",
              "         'quite': 4,\n",
              "         'space': 1,\n",
              "         'such': 1,\n",
              "         'the': 8,\n",
              "         'this': 1,\n",
              "         'unacceptable': 1,\n",
              "         'very': 5})"
            ]
          },
          "metadata": {
            "tags": []
          },
          "execution_count": 81
        }
      ]
    },
    {
      "cell_type": "code",
      "metadata": {
        "id": "qGRLJGAKlsv6",
        "colab_type": "code",
        "colab": {}
      },
      "source": [
        "#create a df only with the first letter in names that is uppercase\n",
        "twitter_clean = twitter_clean[twitter_clean.name.map(lambda word: word.istitle())]"
      ],
      "execution_count": 0,
      "outputs": []
    },
    {
      "cell_type": "markdown",
      "metadata": {
        "id": "EV0bbR3YlvRr",
        "colab_type": "text"
      },
      "source": [
        "###Test###"
      ]
    },
    {
      "cell_type": "code",
      "metadata": {
        "id": "vsdoa5TvmiWl",
        "colab_type": "code",
        "outputId": "b737c4b4-31ae-4a18-de87-a3dea3b3e119",
        "colab": {
          "base_uri": "https://localhost:8080/",
          "height": 34
        }
      },
      "source": [
        "#check if there are any lowercase letter names left\n",
        "lower2 = []\n",
        "\n",
        "for word in twitter_clean['name']:\n",
        "    if word.islower():\n",
        "         lower2.append(word)\n",
        "            \n",
        "Counter(lower2)"
      ],
      "execution_count": 0,
      "outputs": [
        {
          "output_type": "execute_result",
          "data": {
            "text/plain": [
              "Counter()"
            ]
          },
          "metadata": {
            "tags": []
          },
          "execution_count": 83
        }
      ]
    },
    {
      "cell_type": "markdown",
      "metadata": {
        "id": "74F4-iHuxBKO",
        "colab_type": "text"
      },
      "source": [
        "`twitter`: **Rating denominator higher than 10**"
      ]
    },
    {
      "cell_type": "markdown",
      "metadata": {
        "id": "cwApSRTXxFJ7",
        "colab_type": "text"
      },
      "source": [
        "***Define***\n",
        "\n",
        "Remove the lines that have a denominator higher than 10."
      ]
    },
    {
      "cell_type": "markdown",
      "metadata": {
        "id": "65qbtdfSxG2m",
        "colab_type": "text"
      },
      "source": [
        "###Code###"
      ]
    },
    {
      "cell_type": "code",
      "metadata": {
        "id": "DJPQ89a0xIzc",
        "colab_type": "code",
        "outputId": "16828313-4939-44ac-c542-2a380a508355",
        "colab": {
          "base_uri": "https://localhost:8080/",
          "height": 102
        }
      },
      "source": [
        "#chech the value counts of the rating denominator\n",
        "twitter_clean['rating_denominator'].value_counts()"
      ],
      "execution_count": 0,
      "outputs": [
        {
          "output_type": "execute_result",
          "data": {
            "text/plain": [
              "10    1493\n",
              "50       1\n",
              "11       1\n",
              "7        1\n",
              "Name: rating_denominator, dtype: int64"
            ]
          },
          "metadata": {
            "tags": []
          },
          "execution_count": 84
        }
      ]
    },
    {
      "cell_type": "code",
      "metadata": {
        "id": "v8JgAXwfxKkm",
        "colab_type": "code",
        "outputId": "bade7d4e-f2b9-4d02-9dd4-87e3bc82cdd0",
        "colab": {
          "base_uri": "https://localhost:8080/",
          "height": 301
        }
      },
      "source": [
        "#see the lines\n",
        "twitter_clean[twitter_clean.rating_denominator > 10]"
      ],
      "execution_count": 0,
      "outputs": [
        {
          "output_type": "execute_result",
          "data": {
            "text/html": [
              "<div>\n",
              "<style scoped>\n",
              "    .dataframe tbody tr th:only-of-type {\n",
              "        vertical-align: middle;\n",
              "    }\n",
              "\n",
              "    .dataframe tbody tr th {\n",
              "        vertical-align: top;\n",
              "    }\n",
              "\n",
              "    .dataframe thead th {\n",
              "        text-align: right;\n",
              "    }\n",
              "</style>\n",
              "<table border=\"1\" class=\"dataframe\">\n",
              "  <thead>\n",
              "    <tr style=\"text-align: right;\">\n",
              "      <th></th>\n",
              "      <th>tweet_id</th>\n",
              "      <th>in_reply_to_status_id</th>\n",
              "      <th>in_reply_to_user_id</th>\n",
              "      <th>timestamp</th>\n",
              "      <th>source</th>\n",
              "      <th>text</th>\n",
              "      <th>retweeted_status_id</th>\n",
              "      <th>retweeted_status_user_id</th>\n",
              "      <th>retweeted_status_timestamp</th>\n",
              "      <th>expanded_urls</th>\n",
              "      <th>rating_numerator</th>\n",
              "      <th>rating_denominator</th>\n",
              "      <th>name</th>\n",
              "      <th>doggo</th>\n",
              "      <th>floofer</th>\n",
              "      <th>pupper</th>\n",
              "      <th>puppo</th>\n",
              "    </tr>\n",
              "  </thead>\n",
              "  <tbody>\n",
              "    <tr>\n",
              "      <th>1202</th>\n",
              "      <td>716439118184652801</td>\n",
              "      <td>NaN</td>\n",
              "      <td>NaN</td>\n",
              "      <td>2016-04-03</td>\n",
              "      <td>&lt;a href=\"http://twitter.com/download/iphone\" r...</td>\n",
              "      <td>This is Bluebert. He just saw that both #Final...</td>\n",
              "      <td>NaN</td>\n",
              "      <td>NaN</td>\n",
              "      <td>NaN</td>\n",
              "      <td>https://twitter.com/dog_rates/status/716439118...</td>\n",
              "      <td>50</td>\n",
              "      <td>50</td>\n",
              "      <td>Bluebert</td>\n",
              "      <td>None</td>\n",
              "      <td>None</td>\n",
              "      <td>None</td>\n",
              "      <td>None</td>\n",
              "    </tr>\n",
              "    <tr>\n",
              "      <th>1662</th>\n",
              "      <td>682962037429899265</td>\n",
              "      <td>NaN</td>\n",
              "      <td>NaN</td>\n",
              "      <td>2016-01-01</td>\n",
              "      <td>&lt;a href=\"http://twitter.com/download/iphone\" r...</td>\n",
              "      <td>This is Darrel. He just robbed a 7/11 and is i...</td>\n",
              "      <td>NaN</td>\n",
              "      <td>NaN</td>\n",
              "      <td>NaN</td>\n",
              "      <td>https://twitter.com/dog_rates/status/682962037...</td>\n",
              "      <td>7</td>\n",
              "      <td>11</td>\n",
              "      <td>Darrel</td>\n",
              "      <td>None</td>\n",
              "      <td>None</td>\n",
              "      <td>None</td>\n",
              "      <td>None</td>\n",
              "    </tr>\n",
              "  </tbody>\n",
              "</table>\n",
              "</div>"
            ],
            "text/plain": [
              "                tweet_id  in_reply_to_status_id  ...  pupper puppo\n",
              "1202  716439118184652801                    NaN  ...    None  None\n",
              "1662  682962037429899265                    NaN  ...    None  None\n",
              "\n",
              "[2 rows x 17 columns]"
            ]
          },
          "metadata": {
            "tags": []
          },
          "execution_count": 85
        }
      ]
    },
    {
      "cell_type": "code",
      "metadata": {
        "id": "cPDroca9xMjj",
        "colab_type": "code",
        "colab": {}
      },
      "source": [
        "#create df with rating denominators lower than 10\n",
        "twitter_clean = twitter_clean[twitter_clean.rating_denominator <=  10]"
      ],
      "execution_count": 0,
      "outputs": []
    },
    {
      "cell_type": "code",
      "metadata": {
        "id": "N3_mxRj2xOwZ",
        "colab_type": "code",
        "colab": {}
      },
      "source": [
        ""
      ],
      "execution_count": 0,
      "outputs": []
    },
    {
      "cell_type": "markdown",
      "metadata": {
        "id": "T4QomUCPxQxa",
        "colab_type": "text"
      },
      "source": [
        "###Test###"
      ]
    },
    {
      "cell_type": "code",
      "metadata": {
        "id": "s9-0fNRfxUm3",
        "colab_type": "code",
        "outputId": "49abcc64-cf59-4cb9-9090-87042e448d78",
        "colab": {
          "base_uri": "https://localhost:8080/",
          "height": 69
        }
      },
      "source": [
        "#confirm changes\n",
        "twitter_clean[twitter_clean.rating_denominator > 10]"
      ],
      "execution_count": 0,
      "outputs": [
        {
          "output_type": "execute_result",
          "data": {
            "text/html": [
              "<div>\n",
              "<style scoped>\n",
              "    .dataframe tbody tr th:only-of-type {\n",
              "        vertical-align: middle;\n",
              "    }\n",
              "\n",
              "    .dataframe tbody tr th {\n",
              "        vertical-align: top;\n",
              "    }\n",
              "\n",
              "    .dataframe thead th {\n",
              "        text-align: right;\n",
              "    }\n",
              "</style>\n",
              "<table border=\"1\" class=\"dataframe\">\n",
              "  <thead>\n",
              "    <tr style=\"text-align: right;\">\n",
              "      <th></th>\n",
              "      <th>tweet_id</th>\n",
              "      <th>in_reply_to_status_id</th>\n",
              "      <th>in_reply_to_user_id</th>\n",
              "      <th>timestamp</th>\n",
              "      <th>source</th>\n",
              "      <th>text</th>\n",
              "      <th>retweeted_status_id</th>\n",
              "      <th>retweeted_status_user_id</th>\n",
              "      <th>retweeted_status_timestamp</th>\n",
              "      <th>expanded_urls</th>\n",
              "      <th>rating_numerator</th>\n",
              "      <th>rating_denominator</th>\n",
              "      <th>name</th>\n",
              "      <th>doggo</th>\n",
              "      <th>floofer</th>\n",
              "      <th>pupper</th>\n",
              "      <th>puppo</th>\n",
              "    </tr>\n",
              "  </thead>\n",
              "  <tbody>\n",
              "  </tbody>\n",
              "</table>\n",
              "</div>"
            ],
            "text/plain": [
              "Empty DataFrame\n",
              "Columns: [tweet_id, in_reply_to_status_id, in_reply_to_user_id, timestamp, source, text, retweeted_status_id, retweeted_status_user_id, retweeted_status_timestamp, expanded_urls, rating_numerator, rating_denominator, name, doggo, floofer, pupper, puppo]\n",
              "Index: []"
            ]
          },
          "metadata": {
            "tags": []
          },
          "execution_count": 87
        }
      ]
    },
    {
      "cell_type": "markdown",
      "metadata": {
        "id": "zdQNb1kBxX9u",
        "colab_type": "text"
      },
      "source": [
        "`twitter`: **Retweets present in the file: texts start with \"RT @\"**"
      ]
    },
    {
      "cell_type": "markdown",
      "metadata": {
        "id": "Yn9cak9rxn1G",
        "colab_type": "text"
      },
      "source": [
        "***Define***\n",
        "\n",
        "Remove the text retweets starting with \"RT @\", as we are looking only for original tweets."
      ]
    },
    {
      "cell_type": "markdown",
      "metadata": {
        "id": "VvvrMcL7xtUd",
        "colab_type": "text"
      },
      "source": [
        "###Code###"
      ]
    },
    {
      "cell_type": "code",
      "metadata": {
        "id": "U9XLZsT6xxeL",
        "colab_type": "code",
        "colab": {}
      },
      "source": [
        "#remove lines containing &amp\n",
        "twitter_clean = twitter_clean[~twitter_clean['text'].str.contains(\"&amp\")]"
      ],
      "execution_count": 0,
      "outputs": []
    },
    {
      "cell_type": "markdown",
      "metadata": {
        "id": "Z0NKOrdML0JM",
        "colab_type": "text"
      },
      "source": [
        "###Test###"
      ]
    },
    {
      "cell_type": "code",
      "metadata": {
        "id": "8VVMo73AL5Iv",
        "colab_type": "code",
        "outputId": "6ec1906f-f488-48ab-8c66-b0575ede58d3",
        "colab": {
          "base_uri": "https://localhost:8080/",
          "height": 69
        }
      },
      "source": [
        "#confirm changes\n",
        "twitter_clean[twitter_clean['text'].str.contains(\"&amp\")]"
      ],
      "execution_count": 0,
      "outputs": [
        {
          "output_type": "execute_result",
          "data": {
            "text/html": [
              "<div>\n",
              "<style scoped>\n",
              "    .dataframe tbody tr th:only-of-type {\n",
              "        vertical-align: middle;\n",
              "    }\n",
              "\n",
              "    .dataframe tbody tr th {\n",
              "        vertical-align: top;\n",
              "    }\n",
              "\n",
              "    .dataframe thead th {\n",
              "        text-align: right;\n",
              "    }\n",
              "</style>\n",
              "<table border=\"1\" class=\"dataframe\">\n",
              "  <thead>\n",
              "    <tr style=\"text-align: right;\">\n",
              "      <th></th>\n",
              "      <th>tweet_id</th>\n",
              "      <th>in_reply_to_status_id</th>\n",
              "      <th>in_reply_to_user_id</th>\n",
              "      <th>timestamp</th>\n",
              "      <th>source</th>\n",
              "      <th>text</th>\n",
              "      <th>retweeted_status_id</th>\n",
              "      <th>retweeted_status_user_id</th>\n",
              "      <th>retweeted_status_timestamp</th>\n",
              "      <th>expanded_urls</th>\n",
              "      <th>rating_numerator</th>\n",
              "      <th>rating_denominator</th>\n",
              "      <th>name</th>\n",
              "      <th>doggo</th>\n",
              "      <th>floofer</th>\n",
              "      <th>pupper</th>\n",
              "      <th>puppo</th>\n",
              "    </tr>\n",
              "  </thead>\n",
              "  <tbody>\n",
              "  </tbody>\n",
              "</table>\n",
              "</div>"
            ],
            "text/plain": [
              "Empty DataFrame\n",
              "Columns: [tweet_id, in_reply_to_status_id, in_reply_to_user_id, timestamp, source, text, retweeted_status_id, retweeted_status_user_id, retweeted_status_timestamp, expanded_urls, rating_numerator, rating_denominator, name, doggo, floofer, pupper, puppo]\n",
              "Index: []"
            ]
          },
          "metadata": {
            "tags": []
          },
          "execution_count": 101
        }
      ]
    },
    {
      "cell_type": "markdown",
      "metadata": {
        "id": "oclEslFLL8Of",
        "colab_type": "text"
      },
      "source": [
        "`images`: **Some breed names have the first letter lowercase in p1, p2, p3 columns**"
      ]
    },
    {
      "cell_type": "markdown",
      "metadata": {
        "id": "0Ff2_yRnMLdg",
        "colab_type": "text"
      },
      "source": [
        "***Define***\n",
        "\n",
        "Remove the characters \"&amp\" from text."
      ]
    },
    {
      "cell_type": "markdown",
      "metadata": {
        "id": "8i14jVssMRqX",
        "colab_type": "text"
      },
      "source": [
        "***code***"
      ]
    },
    {
      "cell_type": "code",
      "metadata": {
        "id": "TKUFe7BLMWCg",
        "colab_type": "code",
        "outputId": "08141c50-1b52-4d46-d623-39a65cf09b33",
        "colab": {
          "base_uri": "https://localhost:8080/",
          "height": 224
        }
      },
      "source": [
        "#check the df\n",
        "images_clean.head()"
      ],
      "execution_count": 0,
      "outputs": [
        {
          "output_type": "execute_result",
          "data": {
            "text/html": [
              "<div>\n",
              "<style scoped>\n",
              "    .dataframe tbody tr th:only-of-type {\n",
              "        vertical-align: middle;\n",
              "    }\n",
              "\n",
              "    .dataframe tbody tr th {\n",
              "        vertical-align: top;\n",
              "    }\n",
              "\n",
              "    .dataframe thead th {\n",
              "        text-align: right;\n",
              "    }\n",
              "</style>\n",
              "<table border=\"1\" class=\"dataframe\">\n",
              "  <thead>\n",
              "    <tr style=\"text-align: right;\">\n",
              "      <th></th>\n",
              "      <th>tweet_id</th>\n",
              "      <th>jpg_url</th>\n",
              "      <th>img_num</th>\n",
              "      <th>p1</th>\n",
              "      <th>p1_conf</th>\n",
              "      <th>p1_dog</th>\n",
              "      <th>p2</th>\n",
              "      <th>p2_conf</th>\n",
              "      <th>p2_dog</th>\n",
              "      <th>p3</th>\n",
              "      <th>p3_conf</th>\n",
              "      <th>p3_dog</th>\n",
              "    </tr>\n",
              "  </thead>\n",
              "  <tbody>\n",
              "    <tr>\n",
              "      <th>0</th>\n",
              "      <td>666020888022790149</td>\n",
              "      <td>https://pbs.twimg.com/media/CT4udn0WwAA0aMy.jpg</td>\n",
              "      <td>1</td>\n",
              "      <td>Welsh_springer_spaniel</td>\n",
              "      <td>0.465074</td>\n",
              "      <td>True</td>\n",
              "      <td>collie</td>\n",
              "      <td>0.156665</td>\n",
              "      <td>True</td>\n",
              "      <td>Shetland_sheepdog</td>\n",
              "      <td>0.061428</td>\n",
              "      <td>True</td>\n",
              "    </tr>\n",
              "    <tr>\n",
              "      <th>1</th>\n",
              "      <td>666029285002620928</td>\n",
              "      <td>https://pbs.twimg.com/media/CT42GRgUYAA5iDo.jpg</td>\n",
              "      <td>1</td>\n",
              "      <td>redbone</td>\n",
              "      <td>0.506826</td>\n",
              "      <td>True</td>\n",
              "      <td>miniature_pinscher</td>\n",
              "      <td>0.074192</td>\n",
              "      <td>True</td>\n",
              "      <td>Rhodesian_ridgeback</td>\n",
              "      <td>0.072010</td>\n",
              "      <td>True</td>\n",
              "    </tr>\n",
              "    <tr>\n",
              "      <th>2</th>\n",
              "      <td>666033412701032449</td>\n",
              "      <td>https://pbs.twimg.com/media/CT4521TWwAEvMyu.jpg</td>\n",
              "      <td>1</td>\n",
              "      <td>German_shepherd</td>\n",
              "      <td>0.596461</td>\n",
              "      <td>True</td>\n",
              "      <td>malinois</td>\n",
              "      <td>0.138584</td>\n",
              "      <td>True</td>\n",
              "      <td>bloodhound</td>\n",
              "      <td>0.116197</td>\n",
              "      <td>True</td>\n",
              "    </tr>\n",
              "    <tr>\n",
              "      <th>3</th>\n",
              "      <td>666044226329800704</td>\n",
              "      <td>https://pbs.twimg.com/media/CT5Dr8HUEAA-lEu.jpg</td>\n",
              "      <td>1</td>\n",
              "      <td>Rhodesian_ridgeback</td>\n",
              "      <td>0.408143</td>\n",
              "      <td>True</td>\n",
              "      <td>redbone</td>\n",
              "      <td>0.360687</td>\n",
              "      <td>True</td>\n",
              "      <td>miniature_pinscher</td>\n",
              "      <td>0.222752</td>\n",
              "      <td>True</td>\n",
              "    </tr>\n",
              "    <tr>\n",
              "      <th>4</th>\n",
              "      <td>666049248165822465</td>\n",
              "      <td>https://pbs.twimg.com/media/CT5IQmsXIAAKY4A.jpg</td>\n",
              "      <td>1</td>\n",
              "      <td>miniature_pinscher</td>\n",
              "      <td>0.560311</td>\n",
              "      <td>True</td>\n",
              "      <td>Rottweiler</td>\n",
              "      <td>0.243682</td>\n",
              "      <td>True</td>\n",
              "      <td>Doberman</td>\n",
              "      <td>0.154629</td>\n",
              "      <td>True</td>\n",
              "    </tr>\n",
              "  </tbody>\n",
              "</table>\n",
              "</div>"
            ],
            "text/plain": [
              "             tweet_id  ... p3_dog\n",
              "0  666020888022790149  ...   True\n",
              "1  666029285002620928  ...   True\n",
              "2  666033412701032449  ...   True\n",
              "3  666044226329800704  ...   True\n",
              "4  666049248165822465  ...   True\n",
              "\n",
              "[5 rows x 12 columns]"
            ]
          },
          "metadata": {
            "tags": []
          },
          "execution_count": 102
        }
      ]
    },
    {
      "cell_type": "code",
      "metadata": {
        "id": "enpWmzkaMXGz",
        "colab_type": "code",
        "colab": {}
      },
      "source": [
        "#capitalize first letter for dog breeds\n",
        "images_clean['p1'] = images_clean.p1.str.title()\n",
        "images_clean['p2'] = images_clean.p2.str.title()\n",
        "images_clean['p3'] = images_clean.p3.str.title()"
      ],
      "execution_count": 0,
      "outputs": []
    },
    {
      "cell_type": "markdown",
      "metadata": {
        "id": "e99l84h_MaIE",
        "colab_type": "text"
      },
      "source": [
        "***Test***"
      ]
    },
    {
      "cell_type": "code",
      "metadata": {
        "id": "H55rfypoMeIa",
        "colab_type": "code",
        "outputId": "b4a6e8d1-849a-415a-81d3-0ced4e5f4ba9",
        "colab": {
          "base_uri": "https://localhost:8080/",
          "height": 224
        }
      },
      "source": [
        "images_clean.head()"
      ],
      "execution_count": 0,
      "outputs": [
        {
          "output_type": "execute_result",
          "data": {
            "text/html": [
              "<div>\n",
              "<style scoped>\n",
              "    .dataframe tbody tr th:only-of-type {\n",
              "        vertical-align: middle;\n",
              "    }\n",
              "\n",
              "    .dataframe tbody tr th {\n",
              "        vertical-align: top;\n",
              "    }\n",
              "\n",
              "    .dataframe thead th {\n",
              "        text-align: right;\n",
              "    }\n",
              "</style>\n",
              "<table border=\"1\" class=\"dataframe\">\n",
              "  <thead>\n",
              "    <tr style=\"text-align: right;\">\n",
              "      <th></th>\n",
              "      <th>tweet_id</th>\n",
              "      <th>jpg_url</th>\n",
              "      <th>img_num</th>\n",
              "      <th>p1</th>\n",
              "      <th>p1_conf</th>\n",
              "      <th>p1_dog</th>\n",
              "      <th>p2</th>\n",
              "      <th>p2_conf</th>\n",
              "      <th>p2_dog</th>\n",
              "      <th>p3</th>\n",
              "      <th>p3_conf</th>\n",
              "      <th>p3_dog</th>\n",
              "    </tr>\n",
              "  </thead>\n",
              "  <tbody>\n",
              "    <tr>\n",
              "      <th>0</th>\n",
              "      <td>666020888022790149</td>\n",
              "      <td>https://pbs.twimg.com/media/CT4udn0WwAA0aMy.jpg</td>\n",
              "      <td>1</td>\n",
              "      <td>Welsh_Springer_Spaniel</td>\n",
              "      <td>0.465074</td>\n",
              "      <td>True</td>\n",
              "      <td>Collie</td>\n",
              "      <td>0.156665</td>\n",
              "      <td>True</td>\n",
              "      <td>Shetland_Sheepdog</td>\n",
              "      <td>0.061428</td>\n",
              "      <td>True</td>\n",
              "    </tr>\n",
              "    <tr>\n",
              "      <th>1</th>\n",
              "      <td>666029285002620928</td>\n",
              "      <td>https://pbs.twimg.com/media/CT42GRgUYAA5iDo.jpg</td>\n",
              "      <td>1</td>\n",
              "      <td>Redbone</td>\n",
              "      <td>0.506826</td>\n",
              "      <td>True</td>\n",
              "      <td>Miniature_Pinscher</td>\n",
              "      <td>0.074192</td>\n",
              "      <td>True</td>\n",
              "      <td>Rhodesian_Ridgeback</td>\n",
              "      <td>0.072010</td>\n",
              "      <td>True</td>\n",
              "    </tr>\n",
              "    <tr>\n",
              "      <th>2</th>\n",
              "      <td>666033412701032449</td>\n",
              "      <td>https://pbs.twimg.com/media/CT4521TWwAEvMyu.jpg</td>\n",
              "      <td>1</td>\n",
              "      <td>German_Shepherd</td>\n",
              "      <td>0.596461</td>\n",
              "      <td>True</td>\n",
              "      <td>Malinois</td>\n",
              "      <td>0.138584</td>\n",
              "      <td>True</td>\n",
              "      <td>Bloodhound</td>\n",
              "      <td>0.116197</td>\n",
              "      <td>True</td>\n",
              "    </tr>\n",
              "    <tr>\n",
              "      <th>3</th>\n",
              "      <td>666044226329800704</td>\n",
              "      <td>https://pbs.twimg.com/media/CT5Dr8HUEAA-lEu.jpg</td>\n",
              "      <td>1</td>\n",
              "      <td>Rhodesian_Ridgeback</td>\n",
              "      <td>0.408143</td>\n",
              "      <td>True</td>\n",
              "      <td>Redbone</td>\n",
              "      <td>0.360687</td>\n",
              "      <td>True</td>\n",
              "      <td>Miniature_Pinscher</td>\n",
              "      <td>0.222752</td>\n",
              "      <td>True</td>\n",
              "    </tr>\n",
              "    <tr>\n",
              "      <th>4</th>\n",
              "      <td>666049248165822465</td>\n",
              "      <td>https://pbs.twimg.com/media/CT5IQmsXIAAKY4A.jpg</td>\n",
              "      <td>1</td>\n",
              "      <td>Miniature_Pinscher</td>\n",
              "      <td>0.560311</td>\n",
              "      <td>True</td>\n",
              "      <td>Rottweiler</td>\n",
              "      <td>0.243682</td>\n",
              "      <td>True</td>\n",
              "      <td>Doberman</td>\n",
              "      <td>0.154629</td>\n",
              "      <td>True</td>\n",
              "    </tr>\n",
              "  </tbody>\n",
              "</table>\n",
              "</div>"
            ],
            "text/plain": [
              "             tweet_id  ... p3_dog\n",
              "0  666020888022790149  ...   True\n",
              "1  666029285002620928  ...   True\n",
              "2  666033412701032449  ...   True\n",
              "3  666044226329800704  ...   True\n",
              "4  666049248165822465  ...   True\n",
              "\n",
              "[5 rows x 12 columns]"
            ]
          },
          "metadata": {
            "tags": []
          },
          "execution_count": 104
        }
      ]
    },
    {
      "cell_type": "markdown",
      "metadata": {
        "id": "TJA4ytq5MoQ5",
        "colab_type": "text"
      },
      "source": [
        "### Tidiness"
      ]
    },
    {
      "cell_type": "markdown",
      "metadata": {
        "id": "GO3KXWxDM7aG",
        "colab_type": "text"
      },
      "source": [
        "**Irrelevant columns in `twitter` data frame: \"in_reply_to_status_id\", \"in_reply_to_user_id\", \"source\", \"retweeted_status_id\", \"retweeted_status_user_id\", \"retweeted_status_timestamp\"**"
      ]
    },
    {
      "cell_type": "code",
      "metadata": {
        "id": "nWWVkd2HM9Hz",
        "colab_type": "code",
        "outputId": "c731bf56-4ebd-4d99-d91d-fb364c0f5ebd",
        "colab": {
          "base_uri": "https://localhost:8080/",
          "height": 425
        }
      },
      "source": [
        "#check the columns\n",
        "twitter_clean.info()"
      ],
      "execution_count": 0,
      "outputs": [
        {
          "output_type": "stream",
          "text": [
            "<class 'pandas.core.frame.DataFrame'>\n",
            "Int64Index: 1452 entries, 0 to 2325\n",
            "Data columns (total 17 columns):\n",
            " #   Column                      Non-Null Count  Dtype  \n",
            "---  ------                      --------------  -----  \n",
            " 0   tweet_id                    1452 non-null   int64  \n",
            " 1   in_reply_to_status_id       1 non-null      float64\n",
            " 2   in_reply_to_user_id         1 non-null      float64\n",
            " 3   timestamp                   1452 non-null   object \n",
            " 4   source                      1452 non-null   object \n",
            " 5   text                        1452 non-null   object \n",
            " 6   retweeted_status_id         109 non-null    float64\n",
            " 7   retweeted_status_user_id    109 non-null    float64\n",
            " 8   retweeted_status_timestamp  109 non-null    object \n",
            " 9   expanded_urls               1452 non-null   object \n",
            " 10  rating_numerator            1452 non-null   int64  \n",
            " 11  rating_denominator          1452 non-null   int64  \n",
            " 12  name                        1452 non-null   object \n",
            " 13  doggo                       1452 non-null   object \n",
            " 14  floofer                     1452 non-null   object \n",
            " 15  pupper                      1452 non-null   object \n",
            " 16  puppo                       1452 non-null   object \n",
            "dtypes: float64(4), int64(3), object(10)\n",
            "memory usage: 204.2+ KB\n"
          ],
          "name": "stdout"
        }
      ]
    },
    {
      "cell_type": "code",
      "metadata": {
        "id": "gliHq2NPM-1I",
        "colab_type": "code",
        "colab": {}
      },
      "source": [
        "#drop the columns\n",
        "twitter_clean = twitter_clean.drop(['in_reply_to_status_id', 'in_reply_to_user_id', 'source', 'retweeted_status_id', 'retweeted_status_user_id', 'retweeted_status_timestamp'] , axis=1)"
      ],
      "execution_count": 0,
      "outputs": []
    },
    {
      "cell_type": "markdown",
      "metadata": {
        "id": "dkmyXuzvNBoe",
        "colab_type": "text"
      },
      "source": [
        "***Test***"
      ]
    },
    {
      "cell_type": "code",
      "metadata": {
        "id": "pNTJTf7NNDsy",
        "colab_type": "code",
        "outputId": "1a025e24-5452-4c13-ff6a-bf4bf516e258",
        "colab": {
          "base_uri": "https://localhost:8080/",
          "height": 323
        }
      },
      "source": [
        "#check the columns\n",
        "twitter_clean.info()"
      ],
      "execution_count": 0,
      "outputs": [
        {
          "output_type": "stream",
          "text": [
            "<class 'pandas.core.frame.DataFrame'>\n",
            "Int64Index: 1452 entries, 0 to 2325\n",
            "Data columns (total 11 columns):\n",
            " #   Column              Non-Null Count  Dtype \n",
            "---  ------              --------------  ----- \n",
            " 0   tweet_id            1452 non-null   int64 \n",
            " 1   timestamp           1452 non-null   object\n",
            " 2   text                1452 non-null   object\n",
            " 3   expanded_urls       1452 non-null   object\n",
            " 4   rating_numerator    1452 non-null   int64 \n",
            " 5   rating_denominator  1452 non-null   int64 \n",
            " 6   name                1452 non-null   object\n",
            " 7   doggo               1452 non-null   object\n",
            " 8   floofer             1452 non-null   object\n",
            " 9   pupper              1452 non-null   object\n",
            " 10  puppo               1452 non-null   object\n",
            "dtypes: int64(3), object(8)\n",
            "memory usage: 136.1+ KB\n"
          ],
          "name": "stdout"
        }
      ]
    },
    {
      "cell_type": "code",
      "metadata": {
        "id": "tIeX7wD3NGxl",
        "colab_type": "code",
        "colab": {}
      },
      "source": [
        "twitter_clean.to_csv('twitter_clean.csv')"
      ],
      "execution_count": 0,
      "outputs": []
    },
    {
      "cell_type": "markdown",
      "metadata": {
        "id": "sdrdReVTNJak",
        "colab_type": "text"
      },
      "source": [
        "**Column name timestamp to be renamed in `twitter` data frame**"
      ]
    },
    {
      "cell_type": "markdown",
      "metadata": {
        "id": "qHsg6coqNL-Z",
        "colab_type": "text"
      },
      "source": [
        "***Define***\n",
        "\n",
        "Rename the timestamp column into date column."
      ]
    },
    {
      "cell_type": "markdown",
      "metadata": {
        "id": "cN4Bbze1NN_T",
        "colab_type": "text"
      },
      "source": [
        "***Code***"
      ]
    },
    {
      "cell_type": "code",
      "metadata": {
        "id": "0M6ud8C4NQ6L",
        "colab_type": "code",
        "colab": {}
      },
      "source": [
        "#rename the column\n",
        "twitter_clean = twitter_clean.rename(columns = {'timestamp':'date'})"
      ],
      "execution_count": 0,
      "outputs": []
    },
    {
      "cell_type": "markdown",
      "metadata": {
        "id": "_e6uNS-zNSE_",
        "colab_type": "text"
      },
      "source": [
        "***Test***"
      ]
    },
    {
      "cell_type": "code",
      "metadata": {
        "id": "03n7_CXUNVs2",
        "colab_type": "code",
        "outputId": "cdfac80c-8366-4fc8-d7f3-bd4b9bf1b568",
        "colab": {
          "base_uri": "https://localhost:8080/",
          "height": 323
        }
      },
      "source": [
        "#check names of columns\n",
        "twitter_clean.info()"
      ],
      "execution_count": 0,
      "outputs": [
        {
          "output_type": "stream",
          "text": [
            "<class 'pandas.core.frame.DataFrame'>\n",
            "Int64Index: 1452 entries, 0 to 2325\n",
            "Data columns (total 11 columns):\n",
            " #   Column              Non-Null Count  Dtype \n",
            "---  ------              --------------  ----- \n",
            " 0   tweet_id            1452 non-null   int64 \n",
            " 1   date                1452 non-null   object\n",
            " 2   text                1452 non-null   object\n",
            " 3   expanded_urls       1452 non-null   object\n",
            " 4   rating_numerator    1452 non-null   int64 \n",
            " 5   rating_denominator  1452 non-null   int64 \n",
            " 6   name                1452 non-null   object\n",
            " 7   doggo               1452 non-null   object\n",
            " 8   floofer             1452 non-null   object\n",
            " 9   pupper              1452 non-null   object\n",
            " 10  puppo               1452 non-null   object\n",
            "dtypes: int64(3), object(8)\n",
            "memory usage: 136.1+ KB\n"
          ],
          "name": "stdout"
        }
      ]
    },
    {
      "cell_type": "markdown",
      "metadata": {
        "id": "HM_aA-eqNY_u",
        "colab_type": "text"
      },
      "source": [
        "**Column name \"expanded_urls\" not explicit enough in `twitter` data frame**"
      ]
    },
    {
      "cell_type": "markdown",
      "metadata": {
        "id": "IX88pGTqNa0u",
        "colab_type": "text"
      },
      "source": [
        "***Define***\n",
        "\n",
        "Change the name of the 'expanded_urls' column into 'img_url'."
      ]
    },
    {
      "cell_type": "markdown",
      "metadata": {
        "id": "iJHiPyNXNcvc",
        "colab_type": "text"
      },
      "source": [
        "***Code***"
      ]
    },
    {
      "cell_type": "code",
      "metadata": {
        "id": "BzfgzG3BNf0x",
        "colab_type": "code",
        "colab": {}
      },
      "source": [
        "#rename the column\n",
        "twitter_clean = twitter_clean.rename(columns = {'expanded_urls':'img_url'})"
      ],
      "execution_count": 0,
      "outputs": []
    },
    {
      "cell_type": "markdown",
      "metadata": {
        "id": "TVKfFABvNhQL",
        "colab_type": "text"
      },
      "source": [
        "***Test***"
      ]
    },
    {
      "cell_type": "code",
      "metadata": {
        "id": "nlmStMfdNnZV",
        "colab_type": "code",
        "outputId": "4788c421-5cbc-4c14-9cc6-8a981b27538c",
        "colab": {
          "base_uri": "https://localhost:8080/",
          "height": 323
        }
      },
      "source": [
        "#check the new columns\n",
        "twitter_clean.info()"
      ],
      "execution_count": 0,
      "outputs": [
        {
          "output_type": "stream",
          "text": [
            "<class 'pandas.core.frame.DataFrame'>\n",
            "Int64Index: 1452 entries, 0 to 2325\n",
            "Data columns (total 11 columns):\n",
            " #   Column              Non-Null Count  Dtype \n",
            "---  ------              --------------  ----- \n",
            " 0   tweet_id            1452 non-null   int64 \n",
            " 1   date                1452 non-null   object\n",
            " 2   text                1452 non-null   object\n",
            " 3   img_url             1452 non-null   object\n",
            " 4   rating_numerator    1452 non-null   int64 \n",
            " 5   rating_denominator  1452 non-null   int64 \n",
            " 6   name                1452 non-null   object\n",
            " 7   doggo               1452 non-null   object\n",
            " 8   floofer             1452 non-null   object\n",
            " 9   pupper              1452 non-null   object\n",
            " 10  puppo               1452 non-null   object\n",
            "dtypes: int64(3), object(8)\n",
            "memory usage: 136.1+ KB\n"
          ],
          "name": "stdout"
        }
      ]
    },
    {
      "cell_type": "markdown",
      "metadata": {
        "id": "mDT0uj96NprP",
        "colab_type": "text"
      },
      "source": [
        "**Dog stages split into 4 different columns in `twitter` dataframe**"
      ]
    },
    {
      "cell_type": "markdown",
      "metadata": {
        "id": "6IB1ayMdNrdU",
        "colab_type": "text"
      },
      "source": [
        "***Define***\n",
        "\n",
        "Create a single variable with dog stages."
      ]
    },
    {
      "cell_type": "markdown",
      "metadata": {
        "id": "sKn3BtKgNt4M",
        "colab_type": "text"
      },
      "source": [
        "***Code***"
      ]
    },
    {
      "cell_type": "code",
      "metadata": {
        "id": "Gyb9pAX6NxL0",
        "colab_type": "code",
        "colab": {}
      },
      "source": [
        "#melt the columns with dog stages\n",
        "twitter_clean = pd.melt(twitter_clean, id_vars = ['tweet_id', 'date', 'text', 'img_url', 'rating_numerator', 'rating_denominator', 'name'], var_name = 'dog', value_name = 'dog_stage')"
      ],
      "execution_count": 0,
      "outputs": []
    },
    {
      "cell_type": "code",
      "metadata": {
        "id": "q5MFaeqZNy2Y",
        "colab_type": "code",
        "outputId": "a0a0ca60-3102-45d3-aee4-1fd0d19de88b",
        "colab": {
          "base_uri": "https://localhost:8080/",
          "height": 97
        }
      },
      "source": [
        "twitter_clean.head(1)"
      ],
      "execution_count": 0,
      "outputs": [
        {
          "output_type": "execute_result",
          "data": {
            "text/html": [
              "<div>\n",
              "<style scoped>\n",
              "    .dataframe tbody tr th:only-of-type {\n",
              "        vertical-align: middle;\n",
              "    }\n",
              "\n",
              "    .dataframe tbody tr th {\n",
              "        vertical-align: top;\n",
              "    }\n",
              "\n",
              "    .dataframe thead th {\n",
              "        text-align: right;\n",
              "    }\n",
              "</style>\n",
              "<table border=\"1\" class=\"dataframe\">\n",
              "  <thead>\n",
              "    <tr style=\"text-align: right;\">\n",
              "      <th></th>\n",
              "      <th>tweet_id</th>\n",
              "      <th>date</th>\n",
              "      <th>text</th>\n",
              "      <th>img_url</th>\n",
              "      <th>rating_numerator</th>\n",
              "      <th>rating_denominator</th>\n",
              "      <th>name</th>\n",
              "      <th>dog</th>\n",
              "      <th>dog_stage</th>\n",
              "    </tr>\n",
              "  </thead>\n",
              "  <tbody>\n",
              "    <tr>\n",
              "      <th>0</th>\n",
              "      <td>892420643555336193</td>\n",
              "      <td>2017-08-01</td>\n",
              "      <td>This is Phineas. He's a mystical boy. Only eve...</td>\n",
              "      <td>https://twitter.com/dog_rates/status/892420643...</td>\n",
              "      <td>13</td>\n",
              "      <td>10</td>\n",
              "      <td>Phineas</td>\n",
              "      <td>doggo</td>\n",
              "      <td>None</td>\n",
              "    </tr>\n",
              "  </tbody>\n",
              "</table>\n",
              "</div>"
            ],
            "text/plain": [
              "             tweet_id        date  ...    dog dog_stage\n",
              "0  892420643555336193  2017-08-01  ...  doggo      None\n",
              "\n",
              "[1 rows x 9 columns]"
            ]
          },
          "metadata": {
            "tags": []
          },
          "execution_count": 114
        }
      ]
    },
    {
      "cell_type": "code",
      "metadata": {
        "id": "IHeTJ5iMN0co",
        "colab_type": "code",
        "colab": {}
      },
      "source": [
        "#drop the value column\n",
        "twitter_clean = twitter_clean.drop('dog', axis = 1)"
      ],
      "execution_count": 0,
      "outputs": []
    },
    {
      "cell_type": "markdown",
      "metadata": {
        "id": "P5TuLzbWN1_T",
        "colab_type": "text"
      },
      "source": [
        "***Test***"
      ]
    },
    {
      "cell_type": "code",
      "metadata": {
        "id": "bJnUblvBN4_f",
        "colab_type": "code",
        "outputId": "d8e1bb7f-3acc-4c90-bc79-f216d4511234",
        "colab": {
          "base_uri": "https://localhost:8080/",
          "height": 589
        }
      },
      "source": [
        "#check the new df\n",
        "twitter_clean.head(100)"
      ],
      "execution_count": 0,
      "outputs": [
        {
          "output_type": "execute_result",
          "data": {
            "text/html": [
              "<div>\n",
              "<style scoped>\n",
              "    .dataframe tbody tr th:only-of-type {\n",
              "        vertical-align: middle;\n",
              "    }\n",
              "\n",
              "    .dataframe tbody tr th {\n",
              "        vertical-align: top;\n",
              "    }\n",
              "\n",
              "    .dataframe thead th {\n",
              "        text-align: right;\n",
              "    }\n",
              "</style>\n",
              "<table border=\"1\" class=\"dataframe\">\n",
              "  <thead>\n",
              "    <tr style=\"text-align: right;\">\n",
              "      <th></th>\n",
              "      <th>tweet_id</th>\n",
              "      <th>date</th>\n",
              "      <th>text</th>\n",
              "      <th>img_url</th>\n",
              "      <th>rating_numerator</th>\n",
              "      <th>rating_denominator</th>\n",
              "      <th>name</th>\n",
              "      <th>dog_stage</th>\n",
              "    </tr>\n",
              "  </thead>\n",
              "  <tbody>\n",
              "    <tr>\n",
              "      <th>0</th>\n",
              "      <td>892420643555336193</td>\n",
              "      <td>2017-08-01</td>\n",
              "      <td>This is Phineas. He's a mystical boy. Only eve...</td>\n",
              "      <td>https://twitter.com/dog_rates/status/892420643...</td>\n",
              "      <td>13</td>\n",
              "      <td>10</td>\n",
              "      <td>Phineas</td>\n",
              "      <td>None</td>\n",
              "    </tr>\n",
              "    <tr>\n",
              "      <th>1</th>\n",
              "      <td>892177421306343426</td>\n",
              "      <td>2017-08-01</td>\n",
              "      <td>This is Tilly. She's just checking pup on you....</td>\n",
              "      <td>https://twitter.com/dog_rates/status/892177421...</td>\n",
              "      <td>13</td>\n",
              "      <td>10</td>\n",
              "      <td>Tilly</td>\n",
              "      <td>None</td>\n",
              "    </tr>\n",
              "    <tr>\n",
              "      <th>2</th>\n",
              "      <td>891815181378084864</td>\n",
              "      <td>2017-07-31</td>\n",
              "      <td>This is Archie. He is a rare Norwegian Pouncin...</td>\n",
              "      <td>https://twitter.com/dog_rates/status/891815181...</td>\n",
              "      <td>12</td>\n",
              "      <td>10</td>\n",
              "      <td>Archie</td>\n",
              "      <td>None</td>\n",
              "    </tr>\n",
              "    <tr>\n",
              "      <th>3</th>\n",
              "      <td>891689557279858688</td>\n",
              "      <td>2017-07-30</td>\n",
              "      <td>This is Darla. She commenced a snooze mid meal...</td>\n",
              "      <td>https://twitter.com/dog_rates/status/891689557...</td>\n",
              "      <td>13</td>\n",
              "      <td>10</td>\n",
              "      <td>Darla</td>\n",
              "      <td>None</td>\n",
              "    </tr>\n",
              "    <tr>\n",
              "      <th>4</th>\n",
              "      <td>891327558926688256</td>\n",
              "      <td>2017-07-29</td>\n",
              "      <td>This is Franklin. He would like you to stop ca...</td>\n",
              "      <td>https://twitter.com/dog_rates/status/891327558...</td>\n",
              "      <td>12</td>\n",
              "      <td>10</td>\n",
              "      <td>Franklin</td>\n",
              "      <td>None</td>\n",
              "    </tr>\n",
              "    <tr>\n",
              "      <th>...</th>\n",
              "      <td>...</td>\n",
              "      <td>...</td>\n",
              "      <td>...</td>\n",
              "      <td>...</td>\n",
              "      <td>...</td>\n",
              "      <td>...</td>\n",
              "      <td>...</td>\n",
              "      <td>...</td>\n",
              "    </tr>\n",
              "    <tr>\n",
              "      <th>95</th>\n",
              "      <td>866816280283807744</td>\n",
              "      <td>2017-05-23</td>\n",
              "      <td>RT @dog_rates: This is Jamesy. He gives a kiss...</td>\n",
              "      <td>https://twitter.com/dog_rates/status/866450705...</td>\n",
              "      <td>13</td>\n",
              "      <td>10</td>\n",
              "      <td>Jamesy</td>\n",
              "      <td>None</td>\n",
              "    </tr>\n",
              "    <tr>\n",
              "      <th>96</th>\n",
              "      <td>866686824827068416</td>\n",
              "      <td>2017-05-22</td>\n",
              "      <td>This is Lili. She can't believe you betrayed h...</td>\n",
              "      <td>https://twitter.com/dog_rates/status/866686824...</td>\n",
              "      <td>12</td>\n",
              "      <td>10</td>\n",
              "      <td>Lili</td>\n",
              "      <td>None</td>\n",
              "    </tr>\n",
              "    <tr>\n",
              "      <th>97</th>\n",
              "      <td>866450705531457537</td>\n",
              "      <td>2017-05-22</td>\n",
              "      <td>This is Jamesy. He gives a kiss to every other...</td>\n",
              "      <td>https://twitter.com/dog_rates/status/866450705...</td>\n",
              "      <td>13</td>\n",
              "      <td>10</td>\n",
              "      <td>Jamesy</td>\n",
              "      <td>None</td>\n",
              "    </tr>\n",
              "    <tr>\n",
              "      <th>98</th>\n",
              "      <td>866334964761202691</td>\n",
              "      <td>2017-05-21</td>\n",
              "      <td>This is Coco. At first I thought she was a clo...</td>\n",
              "      <td>https://twitter.com/dog_rates/status/866334964...</td>\n",
              "      <td>12</td>\n",
              "      <td>10</td>\n",
              "      <td>Coco</td>\n",
              "      <td>None</td>\n",
              "    </tr>\n",
              "    <tr>\n",
              "      <th>99</th>\n",
              "      <td>865718153858494464</td>\n",
              "      <td>2017-05-19</td>\n",
              "      <td>Meet Boomer. He's just checking pup on you. Ho...</td>\n",
              "      <td>https://twitter.com/dog_rates/status/865718153...</td>\n",
              "      <td>13</td>\n",
              "      <td>10</td>\n",
              "      <td>Boomer</td>\n",
              "      <td>None</td>\n",
              "    </tr>\n",
              "  </tbody>\n",
              "</table>\n",
              "<p>100 rows × 8 columns</p>\n",
              "</div>"
            ],
            "text/plain": [
              "              tweet_id        date  ...      name dog_stage\n",
              "0   892420643555336193  2017-08-01  ...   Phineas      None\n",
              "1   892177421306343426  2017-08-01  ...     Tilly      None\n",
              "2   891815181378084864  2017-07-31  ...    Archie      None\n",
              "3   891689557279858688  2017-07-30  ...     Darla      None\n",
              "4   891327558926688256  2017-07-29  ...  Franklin      None\n",
              "..                 ...         ...  ...       ...       ...\n",
              "95  866816280283807744  2017-05-23  ...    Jamesy      None\n",
              "96  866686824827068416  2017-05-22  ...      Lili      None\n",
              "97  866450705531457537  2017-05-22  ...    Jamesy      None\n",
              "98  866334964761202691  2017-05-21  ...      Coco      None\n",
              "99  865718153858494464  2017-05-19  ...    Boomer      None\n",
              "\n",
              "[100 rows x 8 columns]"
            ]
          },
          "metadata": {
            "tags": []
          },
          "execution_count": 116
        }
      ]
    },
    {
      "cell_type": "markdown",
      "metadata": {
        "id": "ESCK_P1XN7LK",
        "colab_type": "text"
      },
      "source": [
        "**\"id\" column name from `json_tweets` data frame not aligned with the rest of data frames**"
      ]
    },
    {
      "cell_type": "markdown",
      "metadata": {
        "id": "LNkam-kON9MS",
        "colab_type": "text"
      },
      "source": [
        "***Define***\n",
        "\n",
        "Change the column name \"id\" into \"tweet_id\" in json_tweets data frame."
      ]
    },
    {
      "cell_type": "markdown",
      "metadata": {
        "id": "6EvccBRfN-lZ",
        "colab_type": "text"
      },
      "source": [
        "***Code***"
      ]
    },
    {
      "cell_type": "code",
      "metadata": {
        "id": "dxkYn6aoOCzS",
        "colab_type": "code",
        "colab": {}
      },
      "source": [
        "#rename the id column into tweet_id\n",
        "json_clean = json_clean.rename(columns = {'id':'tweet_id'})"
      ],
      "execution_count": 0,
      "outputs": []
    },
    {
      "cell_type": "markdown",
      "metadata": {
        "id": "WuNYUcCtOEeG",
        "colab_type": "text"
      },
      "source": [
        "***Test***"
      ]
    },
    {
      "cell_type": "code",
      "metadata": {
        "id": "b_7TmpAkOHSg",
        "colab_type": "code",
        "outputId": "a3ab1dc6-fb97-4a8f-9eb4-968bebbe7359",
        "colab": {
          "base_uri": "https://localhost:8080/",
          "height": 111
        }
      },
      "source": [
        "#confirm changes\n",
        "json_clean.head(2)"
      ],
      "execution_count": 0,
      "outputs": [
        {
          "output_type": "execute_result",
          "data": {
            "text/html": [
              "<div>\n",
              "<style scoped>\n",
              "    .dataframe tbody tr th:only-of-type {\n",
              "        vertical-align: middle;\n",
              "    }\n",
              "\n",
              "    .dataframe tbody tr th {\n",
              "        vertical-align: top;\n",
              "    }\n",
              "\n",
              "    .dataframe thead th {\n",
              "        text-align: right;\n",
              "    }\n",
              "</style>\n",
              "<table border=\"1\" class=\"dataframe\">\n",
              "  <thead>\n",
              "    <tr style=\"text-align: right;\">\n",
              "      <th></th>\n",
              "      <th>tweet_id</th>\n",
              "      <th>retweet_count</th>\n",
              "      <th>favorite_count</th>\n",
              "    </tr>\n",
              "  </thead>\n",
              "  <tbody>\n",
              "    <tr>\n",
              "      <th>0</th>\n",
              "      <td>892420643555336193</td>\n",
              "      <td>7725</td>\n",
              "      <td>36297</td>\n",
              "    </tr>\n",
              "    <tr>\n",
              "      <th>1</th>\n",
              "      <td>892177421306343426</td>\n",
              "      <td>5718</td>\n",
              "      <td>31301</td>\n",
              "    </tr>\n",
              "  </tbody>\n",
              "</table>\n",
              "</div>"
            ],
            "text/plain": [
              "             tweet_id  retweet_count  favorite_count\n",
              "0  892420643555336193           7725           36297\n",
              "1  892177421306343426           5718           31301"
            ]
          },
          "metadata": {
            "tags": []
          },
          "execution_count": 118
        }
      ]
    },
    {
      "cell_type": "markdown",
      "metadata": {
        "id": "HGeYDsflOJhy",
        "colab_type": "text"
      },
      "source": [
        "**3 separate data frames**"
      ]
    },
    {
      "cell_type": "markdown",
      "metadata": {
        "id": "stLnlzeyOL0G",
        "colab_type": "text"
      },
      "source": [
        "***Define***\n",
        "\n",
        "Merge all 3 data frames by tweet_id."
      ]
    },
    {
      "cell_type": "markdown",
      "metadata": {
        "id": "YELjneO5OM_b",
        "colab_type": "text"
      },
      "source": [
        "***Code***"
      ]
    },
    {
      "cell_type": "code",
      "metadata": {
        "id": "I5MU3ea7ORIe",
        "colab_type": "code",
        "colab": {}
      },
      "source": [
        "#merge all 3 data frames by tweet id\n",
        "twitter_images = pd.merge(twitter_clean, images_clean, on = 'tweet_id', how='left')\n",
        "twitter_master = pd.merge(twitter_images, json_clean, on = 'tweet_id', how='left')"
      ],
      "execution_count": 0,
      "outputs": []
    },
    {
      "cell_type": "markdown",
      "metadata": {
        "id": "Xs25HDYbOTJS",
        "colab_type": "text"
      },
      "source": [
        "***Test***"
      ]
    },
    {
      "cell_type": "code",
      "metadata": {
        "id": "GXaJpwncOVF-",
        "colab_type": "code",
        "outputId": "eeecad7e-a6d7-49e6-e75b-19cda8d9987a",
        "colab": {
          "base_uri": "https://localhost:8080/",
          "height": 202
        }
      },
      "source": [
        "#confirm changes\n",
        "twitter_master.head(1)"
      ],
      "execution_count": 0,
      "outputs": [
        {
          "output_type": "execute_result",
          "data": {
            "text/html": [
              "<div>\n",
              "<style scoped>\n",
              "    .dataframe tbody tr th:only-of-type {\n",
              "        vertical-align: middle;\n",
              "    }\n",
              "\n",
              "    .dataframe tbody tr th {\n",
              "        vertical-align: top;\n",
              "    }\n",
              "\n",
              "    .dataframe thead th {\n",
              "        text-align: right;\n",
              "    }\n",
              "</style>\n",
              "<table border=\"1\" class=\"dataframe\">\n",
              "  <thead>\n",
              "    <tr style=\"text-align: right;\">\n",
              "      <th></th>\n",
              "      <th>tweet_id</th>\n",
              "      <th>date</th>\n",
              "      <th>text</th>\n",
              "      <th>img_url</th>\n",
              "      <th>rating_numerator</th>\n",
              "      <th>rating_denominator</th>\n",
              "      <th>name</th>\n",
              "      <th>dog_stage</th>\n",
              "      <th>jpg_url</th>\n",
              "      <th>img_num</th>\n",
              "      <th>p1</th>\n",
              "      <th>p1_conf</th>\n",
              "      <th>p1_dog</th>\n",
              "      <th>p2</th>\n",
              "      <th>p2_conf</th>\n",
              "      <th>p2_dog</th>\n",
              "      <th>p3</th>\n",
              "      <th>p3_conf</th>\n",
              "      <th>p3_dog</th>\n",
              "      <th>retweet_count</th>\n",
              "      <th>favorite_count</th>\n",
              "    </tr>\n",
              "  </thead>\n",
              "  <tbody>\n",
              "    <tr>\n",
              "      <th>0</th>\n",
              "      <td>892420643555336193</td>\n",
              "      <td>2017-08-01</td>\n",
              "      <td>This is Phineas. He's a mystical boy. Only eve...</td>\n",
              "      <td>https://twitter.com/dog_rates/status/892420643...</td>\n",
              "      <td>13</td>\n",
              "      <td>10</td>\n",
              "      <td>Phineas</td>\n",
              "      <td>None</td>\n",
              "      <td>https://pbs.twimg.com/media/DGKD1-bXoAAIAUK.jpg</td>\n",
              "      <td>1.0</td>\n",
              "      <td>Orange</td>\n",
              "      <td>0.097049</td>\n",
              "      <td>False</td>\n",
              "      <td>Bagel</td>\n",
              "      <td>0.085851</td>\n",
              "      <td>False</td>\n",
              "      <td>Banana</td>\n",
              "      <td>0.07611</td>\n",
              "      <td>False</td>\n",
              "      <td>7725.0</td>\n",
              "      <td>36297.0</td>\n",
              "    </tr>\n",
              "  </tbody>\n",
              "</table>\n",
              "</div>"
            ],
            "text/plain": [
              "             tweet_id        date  ... retweet_count favorite_count\n",
              "0  892420643555336193  2017-08-01  ...        7725.0        36297.0\n",
              "\n",
              "[1 rows x 21 columns]"
            ]
          },
          "metadata": {
            "tags": []
          },
          "execution_count": 120
        }
      ]
    },
    {
      "cell_type": "code",
      "metadata": {
        "id": "ya8Aqp_OOWy3",
        "colab_type": "code",
        "colab": {}
      },
      "source": [
        "#store file\n",
        "twitter_master.to_csv('twitter_archive_master.csv')"
      ],
      "execution_count": 0,
      "outputs": []
    },
    {
      "cell_type": "markdown",
      "metadata": {
        "id": "vf2osV4JQnCW",
        "colab_type": "text"
      },
      "source": [
        "## **Analysis & Visualization**"
      ]
    },
    {
      "cell_type": "markdown",
      "metadata": {
        "id": "AOu11yozQsow",
        "colab_type": "text"
      },
      "source": [
        "### Check Dataset"
      ]
    },
    {
      "cell_type": "code",
      "metadata": {
        "id": "8pRiVl1LQuZe",
        "colab_type": "code",
        "outputId": "fc0d5005-ec0b-46c8-cad1-49e5a0b5ee81",
        "colab": {
          "base_uri": "https://localhost:8080/",
          "height": 734
        }
      },
      "source": [
        "#view the first lines in twitter master dataset\n",
        "twitter_master.head()"
      ],
      "execution_count": 0,
      "outputs": [
        {
          "output_type": "execute_result",
          "data": {
            "text/html": [
              "<div>\n",
              "<style scoped>\n",
              "    .dataframe tbody tr th:only-of-type {\n",
              "        vertical-align: middle;\n",
              "    }\n",
              "\n",
              "    .dataframe tbody tr th {\n",
              "        vertical-align: top;\n",
              "    }\n",
              "\n",
              "    .dataframe thead th {\n",
              "        text-align: right;\n",
              "    }\n",
              "</style>\n",
              "<table border=\"1\" class=\"dataframe\">\n",
              "  <thead>\n",
              "    <tr style=\"text-align: right;\">\n",
              "      <th></th>\n",
              "      <th>tweet_id</th>\n",
              "      <th>date</th>\n",
              "      <th>text</th>\n",
              "      <th>img_url</th>\n",
              "      <th>rating_numerator</th>\n",
              "      <th>rating_denominator</th>\n",
              "      <th>name</th>\n",
              "      <th>dog_stage</th>\n",
              "      <th>jpg_url</th>\n",
              "      <th>img_num</th>\n",
              "      <th>p1</th>\n",
              "      <th>p1_conf</th>\n",
              "      <th>p1_dog</th>\n",
              "      <th>p2</th>\n",
              "      <th>p2_conf</th>\n",
              "      <th>p2_dog</th>\n",
              "      <th>p3</th>\n",
              "      <th>p3_conf</th>\n",
              "      <th>p3_dog</th>\n",
              "      <th>retweet_count</th>\n",
              "      <th>favorite_count</th>\n",
              "    </tr>\n",
              "  </thead>\n",
              "  <tbody>\n",
              "    <tr>\n",
              "      <th>0</th>\n",
              "      <td>892420643555336193</td>\n",
              "      <td>2017-08-01</td>\n",
              "      <td>This is Phineas. He's a mystical boy. Only eve...</td>\n",
              "      <td>https://twitter.com/dog_rates/status/892420643...</td>\n",
              "      <td>13</td>\n",
              "      <td>10</td>\n",
              "      <td>Phineas</td>\n",
              "      <td>None</td>\n",
              "      <td>https://pbs.twimg.com/media/DGKD1-bXoAAIAUK.jpg</td>\n",
              "      <td>1.0</td>\n",
              "      <td>Orange</td>\n",
              "      <td>0.097049</td>\n",
              "      <td>False</td>\n",
              "      <td>Bagel</td>\n",
              "      <td>0.085851</td>\n",
              "      <td>False</td>\n",
              "      <td>Banana</td>\n",
              "      <td>0.076110</td>\n",
              "      <td>False</td>\n",
              "      <td>7725.0</td>\n",
              "      <td>36297.0</td>\n",
              "    </tr>\n",
              "    <tr>\n",
              "      <th>1</th>\n",
              "      <td>892420643555336193</td>\n",
              "      <td>2017-08-01</td>\n",
              "      <td>This is Phineas. He's a mystical boy. Only eve...</td>\n",
              "      <td>https://twitter.com/dog_rates/status/892420643...</td>\n",
              "      <td>13</td>\n",
              "      <td>10</td>\n",
              "      <td>Phineas</td>\n",
              "      <td>None</td>\n",
              "      <td>https://pbs.twimg.com/media/DGKD1-bXoAAIAUK.jpg</td>\n",
              "      <td>1.0</td>\n",
              "      <td>Orange</td>\n",
              "      <td>0.097049</td>\n",
              "      <td>False</td>\n",
              "      <td>Bagel</td>\n",
              "      <td>0.085851</td>\n",
              "      <td>False</td>\n",
              "      <td>Banana</td>\n",
              "      <td>0.076110</td>\n",
              "      <td>False</td>\n",
              "      <td>7725.0</td>\n",
              "      <td>36296.0</td>\n",
              "    </tr>\n",
              "    <tr>\n",
              "      <th>2</th>\n",
              "      <td>892177421306343426</td>\n",
              "      <td>2017-08-01</td>\n",
              "      <td>This is Tilly. She's just checking pup on you....</td>\n",
              "      <td>https://twitter.com/dog_rates/status/892177421...</td>\n",
              "      <td>13</td>\n",
              "      <td>10</td>\n",
              "      <td>Tilly</td>\n",
              "      <td>None</td>\n",
              "      <td>https://pbs.twimg.com/media/DGGmoV4XsAAUL6n.jpg</td>\n",
              "      <td>1.0</td>\n",
              "      <td>Chihuahua</td>\n",
              "      <td>0.323581</td>\n",
              "      <td>True</td>\n",
              "      <td>Pekinese</td>\n",
              "      <td>0.090647</td>\n",
              "      <td>True</td>\n",
              "      <td>Papillon</td>\n",
              "      <td>0.068957</td>\n",
              "      <td>True</td>\n",
              "      <td>5718.0</td>\n",
              "      <td>31301.0</td>\n",
              "    </tr>\n",
              "    <tr>\n",
              "      <th>3</th>\n",
              "      <td>892177421306343426</td>\n",
              "      <td>2017-08-01</td>\n",
              "      <td>This is Tilly. She's just checking pup on you....</td>\n",
              "      <td>https://twitter.com/dog_rates/status/892177421...</td>\n",
              "      <td>13</td>\n",
              "      <td>10</td>\n",
              "      <td>Tilly</td>\n",
              "      <td>None</td>\n",
              "      <td>https://pbs.twimg.com/media/DGGmoV4XsAAUL6n.jpg</td>\n",
              "      <td>1.0</td>\n",
              "      <td>Chihuahua</td>\n",
              "      <td>0.323581</td>\n",
              "      <td>True</td>\n",
              "      <td>Pekinese</td>\n",
              "      <td>0.090647</td>\n",
              "      <td>True</td>\n",
              "      <td>Papillon</td>\n",
              "      <td>0.068957</td>\n",
              "      <td>True</td>\n",
              "      <td>5718.0</td>\n",
              "      <td>31301.0</td>\n",
              "    </tr>\n",
              "    <tr>\n",
              "      <th>4</th>\n",
              "      <td>892177421306343426</td>\n",
              "      <td>2017-08-01</td>\n",
              "      <td>This is Tilly. She's just checking pup on you....</td>\n",
              "      <td>https://twitter.com/dog_rates/status/892177421...</td>\n",
              "      <td>13</td>\n",
              "      <td>10</td>\n",
              "      <td>Tilly</td>\n",
              "      <td>None</td>\n",
              "      <td>https://pbs.twimg.com/media/DGGmoV4XsAAUL6n.jpg</td>\n",
              "      <td>1.0</td>\n",
              "      <td>Chihuahua</td>\n",
              "      <td>0.323581</td>\n",
              "      <td>True</td>\n",
              "      <td>Pekinese</td>\n",
              "      <td>0.090647</td>\n",
              "      <td>True</td>\n",
              "      <td>Papillon</td>\n",
              "      <td>0.068957</td>\n",
              "      <td>True</td>\n",
              "      <td>5718.0</td>\n",
              "      <td>31302.0</td>\n",
              "    </tr>\n",
              "  </tbody>\n",
              "</table>\n",
              "</div>"
            ],
            "text/plain": [
              "             tweet_id        date  ... retweet_count favorite_count\n",
              "0  892420643555336193  2017-08-01  ...        7725.0        36297.0\n",
              "1  892420643555336193  2017-08-01  ...        7725.0        36296.0\n",
              "2  892177421306343426  2017-08-01  ...        5718.0        31301.0\n",
              "3  892177421306343426  2017-08-01  ...        5718.0        31301.0\n",
              "4  892177421306343426  2017-08-01  ...        5718.0        31302.0\n",
              "\n",
              "[5 rows x 21 columns]"
            ]
          },
          "metadata": {
            "tags": []
          },
          "execution_count": 122
        }
      ]
    },
    {
      "cell_type": "code",
      "metadata": {
        "id": "QJO7F11nQx9C",
        "colab_type": "code",
        "outputId": "f6bb1903-bae7-489d-b277-6fb4ed626b94",
        "colab": {
          "base_uri": "https://localhost:8080/",
          "height": 493
        }
      },
      "source": [
        "#check info\n",
        "twitter_master.info()"
      ],
      "execution_count": 0,
      "outputs": [
        {
          "output_type": "stream",
          "text": [
            "<class 'pandas.core.frame.DataFrame'>\n",
            "Int64Index: 14048 entries, 0 to 14047\n",
            "Data columns (total 21 columns):\n",
            " #   Column              Non-Null Count  Dtype  \n",
            "---  ------              --------------  -----  \n",
            " 0   tweet_id            14048 non-null  int64  \n",
            " 1   date                14048 non-null  object \n",
            " 2   text                14048 non-null  object \n",
            " 3   img_url             14048 non-null  object \n",
            " 4   rating_numerator    14048 non-null  int64  \n",
            " 5   rating_denominator  14048 non-null  int64  \n",
            " 6   name                14048 non-null  object \n",
            " 7   dog_stage           14048 non-null  object \n",
            " 8   jpg_url             12984 non-null  object \n",
            " 9   img_num             12984 non-null  float64\n",
            " 10  p1                  12984 non-null  object \n",
            " 11  p1_conf             12984 non-null  float64\n",
            " 12  p1_dog              12984 non-null  object \n",
            " 13  p2                  12984 non-null  object \n",
            " 14  p2_conf             12984 non-null  float64\n",
            " 15  p2_dog              12984 non-null  object \n",
            " 16  p3                  12984 non-null  object \n",
            " 17  p3_conf             12984 non-null  float64\n",
            " 18  p3_dog              12984 non-null  object \n",
            " 19  retweet_count       13988 non-null  float64\n",
            " 20  favorite_count      13988 non-null  float64\n",
            "dtypes: float64(6), int64(3), object(12)\n",
            "memory usage: 2.4+ MB\n"
          ],
          "name": "stdout"
        }
      ]
    },
    {
      "cell_type": "code",
      "metadata": {
        "id": "8s0FpuYoQymm",
        "colab_type": "code",
        "outputId": "f29f6ad7-e6c1-441c-de48-2875b8d7947d",
        "colab": {
          "base_uri": "https://localhost:8080/",
          "height": 34
        }
      },
      "source": [
        "#check if there are any duplicates\n",
        "sum(twitter_master.duplicated())"
      ],
      "execution_count": 0,
      "outputs": [
        {
          "output_type": "execute_result",
          "data": {
            "text/plain": [
              "11848"
            ]
          },
          "metadata": {
            "tags": []
          },
          "execution_count": 124
        }
      ]
    },
    {
      "cell_type": "code",
      "metadata": {
        "id": "dy1ijtJ4SlJs",
        "colab_type": "code",
        "colab": {}
      },
      "source": [
        "#drop duplicates\n",
        "twitter_master = twitter_master.drop_duplicates()"
      ],
      "execution_count": 0,
      "outputs": []
    },
    {
      "cell_type": "code",
      "metadata": {
        "id": "v0hdw39CSoQG",
        "colab_type": "code",
        "outputId": "df899e9a-1ee1-47a6-94cb-57355441c4f0",
        "colab": {
          "base_uri": "https://localhost:8080/",
          "height": 34
        }
      },
      "source": [
        "#confirm duplicates removed\n",
        "sum(twitter_master.duplicated())"
      ],
      "execution_count": 0,
      "outputs": [
        {
          "output_type": "execute_result",
          "data": {
            "text/plain": [
              "0"
            ]
          },
          "metadata": {
            "tags": []
          },
          "execution_count": 127
        }
      ]
    },
    {
      "cell_type": "code",
      "metadata": {
        "id": "m3tWRAd0Srp5",
        "colab_type": "code",
        "outputId": "7854bab3-8289-41fb-9ee5-255f77bd17d0",
        "colab": {
          "base_uri": "https://localhost:8080/",
          "height": 493
        }
      },
      "source": [
        "#check info\n",
        "twitter_master.info()"
      ],
      "execution_count": 0,
      "outputs": [
        {
          "output_type": "stream",
          "text": [
            "<class 'pandas.core.frame.DataFrame'>\n",
            "Int64Index: 2200 entries, 0 to 12636\n",
            "Data columns (total 21 columns):\n",
            " #   Column              Non-Null Count  Dtype  \n",
            "---  ------              --------------  -----  \n",
            " 0   tweet_id            2200 non-null   int64  \n",
            " 1   date                2200 non-null   object \n",
            " 2   text                2200 non-null   object \n",
            " 3   img_url             2200 non-null   object \n",
            " 4   rating_numerator    2200 non-null   int64  \n",
            " 5   rating_denominator  2200 non-null   int64  \n",
            " 6   name                2200 non-null   object \n",
            " 7   dog_stage           2200 non-null   object \n",
            " 8   jpg_url             2049 non-null   object \n",
            " 9   img_num             2049 non-null   float64\n",
            " 10  p1                  2049 non-null   object \n",
            " 11  p1_conf             2049 non-null   float64\n",
            " 12  p1_dog              2049 non-null   object \n",
            " 13  p2                  2049 non-null   object \n",
            " 14  p2_conf             2049 non-null   float64\n",
            " 15  p2_dog              2049 non-null   object \n",
            " 16  p3                  2049 non-null   object \n",
            " 17  p3_conf             2049 non-null   float64\n",
            " 18  p3_dog              2049 non-null   object \n",
            " 19  retweet_count       2182 non-null   float64\n",
            " 20  favorite_count      2182 non-null   float64\n",
            "dtypes: float64(6), int64(3), object(12)\n",
            "memory usage: 378.1+ KB\n"
          ],
          "name": "stdout"
        }
      ]
    },
    {
      "cell_type": "code",
      "metadata": {
        "id": "iwMQ-T79Su6Z",
        "colab_type": "code",
        "outputId": "e011184f-b544-46df-bd80-8ef5edec79cd",
        "colab": {
          "base_uri": "https://localhost:8080/",
          "height": 68
        }
      },
      "source": [
        "#columns that have missing values\n",
        "twitter_master.columns[twitter_master.isnull().any()]"
      ],
      "execution_count": 0,
      "outputs": [
        {
          "output_type": "execute_result",
          "data": {
            "text/plain": [
              "Index(['jpg_url', 'img_num', 'p1', 'p1_conf', 'p1_dog', 'p2', 'p2_conf',\n",
              "       'p2_dog', 'p3', 'p3_conf', 'p3_dog', 'retweet_count', 'favorite_count'],\n",
              "      dtype='object')"
            ]
          },
          "metadata": {
            "tags": []
          },
          "execution_count": 129
        }
      ]
    },
    {
      "cell_type": "code",
      "metadata": {
        "id": "jK3gpMKCSxUM",
        "colab_type": "code",
        "colab": {}
      },
      "source": [
        "#drop rows with missing values\n",
        "twitter_master = twitter_master.dropna()"
      ],
      "execution_count": 0,
      "outputs": []
    },
    {
      "cell_type": "code",
      "metadata": {
        "id": "TcAMj1C1Sz3B",
        "colab_type": "code",
        "outputId": "fb1c01dd-256a-4f47-9605-8887ddabca45",
        "colab": {
          "base_uri": "https://localhost:8080/",
          "height": 493
        }
      },
      "source": [
        "#check info\n",
        "twitter_master.info()"
      ],
      "execution_count": 0,
      "outputs": [
        {
          "output_type": "stream",
          "text": [
            "<class 'pandas.core.frame.DataFrame'>\n",
            "Int64Index: 2036 entries, 0 to 12636\n",
            "Data columns (total 21 columns):\n",
            " #   Column              Non-Null Count  Dtype  \n",
            "---  ------              --------------  -----  \n",
            " 0   tweet_id            2036 non-null   int64  \n",
            " 1   date                2036 non-null   object \n",
            " 2   text                2036 non-null   object \n",
            " 3   img_url             2036 non-null   object \n",
            " 4   rating_numerator    2036 non-null   int64  \n",
            " 5   rating_denominator  2036 non-null   int64  \n",
            " 6   name                2036 non-null   object \n",
            " 7   dog_stage           2036 non-null   object \n",
            " 8   jpg_url             2036 non-null   object \n",
            " 9   img_num             2036 non-null   float64\n",
            " 10  p1                  2036 non-null   object \n",
            " 11  p1_conf             2036 non-null   float64\n",
            " 12  p1_dog              2036 non-null   object \n",
            " 13  p2                  2036 non-null   object \n",
            " 14  p2_conf             2036 non-null   float64\n",
            " 15  p2_dog              2036 non-null   object \n",
            " 16  p3                  2036 non-null   object \n",
            " 17  p3_conf             2036 non-null   float64\n",
            " 18  p3_dog              2036 non-null   object \n",
            " 19  retweet_count       2036 non-null   float64\n",
            " 20  favorite_count      2036 non-null   float64\n",
            "dtypes: float64(6), int64(3), object(12)\n",
            "memory usage: 349.9+ KB\n"
          ],
          "name": "stdout"
        }
      ]
    },
    {
      "cell_type": "markdown",
      "metadata": {
        "id": "TUqEAYfcS4-W",
        "colab_type": "text"
      },
      "source": [
        "**In the above assessment I have found the following:**\n",
        "\n",
        "    - No. of observations in the dataset: 2786\n",
        "    - No. of columns in the dataset: 21\n",
        "    - 7867 duplicate rows removed\n",
        "    - Rows with missing values removed"
      ]
    },
    {
      "cell_type": "markdown",
      "metadata": {
        "id": "TrVei53fS8SI",
        "colab_type": "text"
      },
      "source": [
        "### Descriptive Statistics"
      ]
    },
    {
      "cell_type": "code",
      "metadata": {
        "id": "Wi_w8RW6S_VH",
        "colab_type": "code",
        "outputId": "c6079852-b489-429e-c13e-d1bfb5da0a4f",
        "colab": {
          "base_uri": "https://localhost:8080/",
          "height": 297
        }
      },
      "source": [
        "#descriptive statistics\n",
        "twitter_master.describe()"
      ],
      "execution_count": 0,
      "outputs": [
        {
          "output_type": "execute_result",
          "data": {
            "text/html": [
              "<div>\n",
              "<style scoped>\n",
              "    .dataframe tbody tr th:only-of-type {\n",
              "        vertical-align: middle;\n",
              "    }\n",
              "\n",
              "    .dataframe tbody tr th {\n",
              "        vertical-align: top;\n",
              "    }\n",
              "\n",
              "    .dataframe thead th {\n",
              "        text-align: right;\n",
              "    }\n",
              "</style>\n",
              "<table border=\"1\" class=\"dataframe\">\n",
              "  <thead>\n",
              "    <tr style=\"text-align: right;\">\n",
              "      <th></th>\n",
              "      <th>tweet_id</th>\n",
              "      <th>rating_numerator</th>\n",
              "      <th>rating_denominator</th>\n",
              "      <th>img_num</th>\n",
              "      <th>p1_conf</th>\n",
              "      <th>p2_conf</th>\n",
              "      <th>p3_conf</th>\n",
              "      <th>retweet_count</th>\n",
              "      <th>favorite_count</th>\n",
              "    </tr>\n",
              "  </thead>\n",
              "  <tbody>\n",
              "    <tr>\n",
              "      <th>count</th>\n",
              "      <td>2.036000e+03</td>\n",
              "      <td>2036.000000</td>\n",
              "      <td>2036.0</td>\n",
              "      <td>2036.00000</td>\n",
              "      <td>2036.000000</td>\n",
              "      <td>2.036000e+03</td>\n",
              "      <td>2.036000e+03</td>\n",
              "      <td>2036.000000</td>\n",
              "      <td>2036.000000</td>\n",
              "    </tr>\n",
              "    <tr>\n",
              "      <th>mean</th>\n",
              "      <td>7.582843e+17</td>\n",
              "      <td>12.756876</td>\n",
              "      <td>10.0</td>\n",
              "      <td>1.24558</td>\n",
              "      <td>0.616720</td>\n",
              "      <td>1.346392e-01</td>\n",
              "      <td>5.814721e-02</td>\n",
              "      <td>3218.629666</td>\n",
              "      <td>10422.096758</td>\n",
              "    </tr>\n",
              "    <tr>\n",
              "      <th>std</th>\n",
              "      <td>7.027404e+16</td>\n",
              "      <td>55.373659</td>\n",
              "      <td>0.0</td>\n",
              "      <td>0.62117</td>\n",
              "      <td>0.267978</td>\n",
              "      <td>1.035387e-01</td>\n",
              "      <td>5.088770e-02</td>\n",
              "      <td>4795.965674</td>\n",
              "      <td>13462.897394</td>\n",
              "    </tr>\n",
              "    <tr>\n",
              "      <th>min</th>\n",
              "      <td>6.664188e+17</td>\n",
              "      <td>2.000000</td>\n",
              "      <td>10.0</td>\n",
              "      <td>1.00000</td>\n",
              "      <td>0.044333</td>\n",
              "      <td>1.011300e-08</td>\n",
              "      <td>1.740170e-10</td>\n",
              "      <td>18.000000</td>\n",
              "      <td>0.000000</td>\n",
              "    </tr>\n",
              "    <tr>\n",
              "      <th>25%</th>\n",
              "      <td>6.874247e+17</td>\n",
              "      <td>10.000000</td>\n",
              "      <td>10.0</td>\n",
              "      <td>1.00000</td>\n",
              "      <td>0.384125</td>\n",
              "      <td>4.944190e-02</td>\n",
              "      <td>1.309480e-02</td>\n",
              "      <td>833.750000</td>\n",
              "      <td>2465.000000</td>\n",
              "    </tr>\n",
              "    <tr>\n",
              "      <th>50%</th>\n",
              "      <td>7.511921e+17</td>\n",
              "      <td>11.000000</td>\n",
              "      <td>10.0</td>\n",
              "      <td>1.00000</td>\n",
              "      <td>0.618483</td>\n",
              "      <td>1.165320e-01</td>\n",
              "      <td>4.634920e-02</td>\n",
              "      <td>1907.500000</td>\n",
              "      <td>6128.000000</td>\n",
              "    </tr>\n",
              "    <tr>\n",
              "      <th>75%</th>\n",
              "      <td>8.190052e+17</td>\n",
              "      <td>12.000000</td>\n",
              "      <td>10.0</td>\n",
              "      <td>1.00000</td>\n",
              "      <td>0.871283</td>\n",
              "      <td>1.986600e-01</td>\n",
              "      <td>9.133133e-02</td>\n",
              "      <td>3700.000000</td>\n",
              "      <td>14099.500000</td>\n",
              "    </tr>\n",
              "    <tr>\n",
              "      <th>max</th>\n",
              "      <td>8.924206e+17</td>\n",
              "      <td>1776.000000</td>\n",
              "      <td>10.0</td>\n",
              "      <td>4.00000</td>\n",
              "      <td>1.000000</td>\n",
              "      <td>4.880140e-01</td>\n",
              "      <td>2.710420e-01</td>\n",
              "      <td>56914.000000</td>\n",
              "      <td>121007.000000</td>\n",
              "    </tr>\n",
              "  </tbody>\n",
              "</table>\n",
              "</div>"
            ],
            "text/plain": [
              "           tweet_id  rating_numerator  ...  retweet_count  favorite_count\n",
              "count  2.036000e+03       2036.000000  ...    2036.000000     2036.000000\n",
              "mean   7.582843e+17         12.756876  ...    3218.629666    10422.096758\n",
              "std    7.027404e+16         55.373659  ...    4795.965674    13462.897394\n",
              "min    6.664188e+17          2.000000  ...      18.000000        0.000000\n",
              "25%    6.874247e+17         10.000000  ...     833.750000     2465.000000\n",
              "50%    7.511921e+17         11.000000  ...    1907.500000     6128.000000\n",
              "75%    8.190052e+17         12.000000  ...    3700.000000    14099.500000\n",
              "max    8.924206e+17       1776.000000  ...   56914.000000   121007.000000\n",
              "\n",
              "[8 rows x 9 columns]"
            ]
          },
          "metadata": {
            "tags": []
          },
          "execution_count": 132
        }
      ]
    },
    {
      "cell_type": "code",
      "metadata": {
        "id": "HOA0ooABTB7w",
        "colab_type": "code",
        "outputId": "60313b68-7fc0-4a9a-a92a-3b5617b31354",
        "colab": {
          "base_uri": "https://localhost:8080/",
          "height": 306
        }
      },
      "source": [
        "#count the number of ratings numerator\n",
        "twitter_master['rating_numerator'].value_counts()"
      ],
      "execution_count": 0,
      "outputs": [
        {
          "output_type": "execute_result",
          "data": {
            "text/plain": [
              "12      532\n",
              "11      462\n",
              "10      355\n",
              "13      315\n",
              "9       119\n",
              "8        95\n",
              "14       48\n",
              "7        46\n",
              "6        24\n",
              "5        16\n",
              "3        11\n",
              "4         5\n",
              "1776      2\n",
              "75        2\n",
              "27        2\n",
              "2         2\n",
              "Name: rating_numerator, dtype: int64"
            ]
          },
          "metadata": {
            "tags": []
          },
          "execution_count": 133
        }
      ]
    },
    {
      "cell_type": "markdown",
      "metadata": {
        "id": "FE4tBm4_TIq4",
        "colab_type": "text"
      },
      "source": [
        "**The most common rating numerator is 12/10, followed by 11/10, 10/10 and 13/10. We also have outliers, 1776/10 and 75/10.**"
      ]
    },
    {
      "cell_type": "code",
      "metadata": {
        "id": "HNLFvFhUTElz",
        "colab_type": "code",
        "colab": {}
      },
      "source": [
        "#plot the count of rating numerators between 2 and 14\n",
        "plt.hist(twitter_master['rating_numerator'], range = (2, 14));\n",
        "plt.xlabel('Rating Numerator')\n",
        "plt.ylabel('Frequency')\n",
        "plt.title('Ratings Distribution')"
      ],
      "execution_count": 0,
      "outputs": []
    },
    {
      "cell_type": "markdown",
      "metadata": {
        "id": "8yCgDP9_TPjU",
        "colab_type": "text"
      },
      "source": [
        "**Our distribution is left skewed and peaks at 12.**"
      ]
    },
    {
      "cell_type": "code",
      "metadata": {
        "id": "87XDkkabTRhr",
        "colab_type": "code",
        "colab": {}
      },
      "source": [
        "#count the number of dog stages\n",
        "twitter_master['dog_stage'].value_counts()"
      ],
      "execution_count": 0,
      "outputs": []
    },
    {
      "cell_type": "markdown",
      "metadata": {
        "id": "ukw_QcG1TU2l",
        "colab_type": "text"
      },
      "source": [
        "**The most common dog stage is pupper, which is a small dog, ussualy younger, as presented by the @dog_rates account. We also have many dogs that are not classified.**"
      ]
    },
    {
      "cell_type": "code",
      "metadata": {
        "id": "gcvM8lsFTW5y",
        "colab_type": "code",
        "outputId": "e7bfdbba-ad67-49c5-f258-d719143a68bc",
        "colab": {
          "base_uri": "https://localhost:8080/",
          "height": 204
        }
      },
      "source": [
        "#filter on dog stages by the median of rating numerator\n",
        "dogs = twitter_master.groupby(['dog_stage'], as_index = False)['rating_numerator'].median()\n",
        "\n",
        "dogs"
      ],
      "execution_count": 0,
      "outputs": [
        {
          "output_type": "execute_result",
          "data": {
            "text/html": [
              "<div>\n",
              "<style scoped>\n",
              "    .dataframe tbody tr th:only-of-type {\n",
              "        vertical-align: middle;\n",
              "    }\n",
              "\n",
              "    .dataframe tbody tr th {\n",
              "        vertical-align: top;\n",
              "    }\n",
              "\n",
              "    .dataframe thead th {\n",
              "        text-align: right;\n",
              "    }\n",
              "</style>\n",
              "<table border=\"1\" class=\"dataframe\">\n",
              "  <thead>\n",
              "    <tr style=\"text-align: right;\">\n",
              "      <th></th>\n",
              "      <th>dog_stage</th>\n",
              "      <th>rating_numerator</th>\n",
              "    </tr>\n",
              "  </thead>\n",
              "  <tbody>\n",
              "    <tr>\n",
              "      <th>0</th>\n",
              "      <td>None</td>\n",
              "      <td>11</td>\n",
              "    </tr>\n",
              "    <tr>\n",
              "      <th>1</th>\n",
              "      <td>doggo</td>\n",
              "      <td>12</td>\n",
              "    </tr>\n",
              "    <tr>\n",
              "      <th>2</th>\n",
              "      <td>floofer</td>\n",
              "      <td>12</td>\n",
              "    </tr>\n",
              "    <tr>\n",
              "      <th>3</th>\n",
              "      <td>pupper</td>\n",
              "      <td>11</td>\n",
              "    </tr>\n",
              "    <tr>\n",
              "      <th>4</th>\n",
              "      <td>puppo</td>\n",
              "      <td>12</td>\n",
              "    </tr>\n",
              "  </tbody>\n",
              "</table>\n",
              "</div>"
            ],
            "text/plain": [
              "  dog_stage  rating_numerator\n",
              "0      None                11\n",
              "1     doggo                12\n",
              "2   floofer                12\n",
              "3    pupper                11\n",
              "4     puppo                12"
            ]
          },
          "metadata": {
            "tags": []
          },
          "execution_count": 138
        }
      ]
    },
    {
      "cell_type": "markdown",
      "metadata": {
        "id": "qqQP2WFsTZpw",
        "colab_type": "text"
      },
      "source": [
        "**The average rating numerator by dog stage is between 11 and 12.**"
      ]
    },
    {
      "cell_type": "code",
      "metadata": {
        "id": "RemlrcbrTbW7",
        "colab_type": "code",
        "outputId": "829c9143-fab4-49af-f463-8d4c1086c210",
        "colab": {
          "base_uri": "https://localhost:8080/",
          "height": 306
        }
      },
      "source": [
        "#highest rated dog\n",
        "twitter_master['rating_numerator'].value_counts()"
      ],
      "execution_count": 0,
      "outputs": [
        {
          "output_type": "execute_result",
          "data": {
            "text/plain": [
              "12      532\n",
              "11      462\n",
              "10      355\n",
              "13      315\n",
              "9       119\n",
              "8        95\n",
              "14       48\n",
              "7        46\n",
              "6        24\n",
              "5        16\n",
              "3        11\n",
              "4         5\n",
              "1776      2\n",
              "75        2\n",
              "27        2\n",
              "2         2\n",
              "Name: rating_numerator, dtype: int64"
            ]
          },
          "metadata": {
            "tags": []
          },
          "execution_count": 139
        }
      ]
    },
    {
      "cell_type": "markdown",
      "metadata": {
        "id": "x2rCx_Q4TcZF",
        "colab_type": "text"
      },
      "source": [
        "**We have an outlier in the ratings numerators: 1776/10. Let's see more details.**"
      ]
    },
    {
      "cell_type": "code",
      "metadata": {
        "id": "Y4vbTEwAThih",
        "colab_type": "code",
        "outputId": "15920057-56b8-4fcb-899b-b2a99094fac6",
        "colab": {
          "base_uri": "https://localhost:8080/",
          "height": 335
        }
      },
      "source": [
        "#check highest rated dog\n",
        "twitter_master[twitter_master.rating_numerator == 1776]"
      ],
      "execution_count": 0,
      "outputs": [
        {
          "output_type": "execute_result",
          "data": {
            "text/html": [
              "<div>\n",
              "<style scoped>\n",
              "    .dataframe tbody tr th:only-of-type {\n",
              "        vertical-align: middle;\n",
              "    }\n",
              "\n",
              "    .dataframe tbody tr th {\n",
              "        vertical-align: top;\n",
              "    }\n",
              "\n",
              "    .dataframe thead th {\n",
              "        text-align: right;\n",
              "    }\n",
              "</style>\n",
              "<table border=\"1\" class=\"dataframe\">\n",
              "  <thead>\n",
              "    <tr style=\"text-align: right;\">\n",
              "      <th></th>\n",
              "      <th>tweet_id</th>\n",
              "      <th>date</th>\n",
              "      <th>text</th>\n",
              "      <th>img_url</th>\n",
              "      <th>rating_numerator</th>\n",
              "      <th>rating_denominator</th>\n",
              "      <th>name</th>\n",
              "      <th>dog_stage</th>\n",
              "      <th>jpg_url</th>\n",
              "      <th>img_num</th>\n",
              "      <th>p1</th>\n",
              "      <th>p1_conf</th>\n",
              "      <th>p1_dog</th>\n",
              "      <th>p2</th>\n",
              "      <th>p2_conf</th>\n",
              "      <th>p2_dog</th>\n",
              "      <th>p3</th>\n",
              "      <th>p3_conf</th>\n",
              "      <th>p3_dog</th>\n",
              "      <th>retweet_count</th>\n",
              "      <th>favorite_count</th>\n",
              "    </tr>\n",
              "  </thead>\n",
              "  <tbody>\n",
              "    <tr>\n",
              "      <th>1979</th>\n",
              "      <td>749981277374128128</td>\n",
              "      <td>2016-07-04</td>\n",
              "      <td>This is Atticus. He's quite simply America af....</td>\n",
              "      <td>https://twitter.com/dog_rates/status/749981277...</td>\n",
              "      <td>1776</td>\n",
              "      <td>10</td>\n",
              "      <td>Atticus</td>\n",
              "      <td>None</td>\n",
              "      <td>https://pbs.twimg.com/media/CmgBZ7kWcAAlzFD.jpg</td>\n",
              "      <td>1.0</td>\n",
              "      <td>Bow_Tie</td>\n",
              "      <td>0.533941</td>\n",
              "      <td>False</td>\n",
              "      <td>Sunglasses</td>\n",
              "      <td>0.080822</td>\n",
              "      <td>False</td>\n",
              "      <td>Sunglass</td>\n",
              "      <td>0.050776</td>\n",
              "      <td>False</td>\n",
              "      <td>2478.0</td>\n",
              "      <td>5147.0</td>\n",
              "    </tr>\n",
              "    <tr>\n",
              "      <th>1980</th>\n",
              "      <td>749981277374128128</td>\n",
              "      <td>2016-07-04</td>\n",
              "      <td>This is Atticus. He's quite simply America af....</td>\n",
              "      <td>https://twitter.com/dog_rates/status/749981277...</td>\n",
              "      <td>1776</td>\n",
              "      <td>10</td>\n",
              "      <td>Atticus</td>\n",
              "      <td>None</td>\n",
              "      <td>https://pbs.twimg.com/media/CmgBZ7kWcAAlzFD.jpg</td>\n",
              "      <td>1.0</td>\n",
              "      <td>Bow_Tie</td>\n",
              "      <td>0.533941</td>\n",
              "      <td>False</td>\n",
              "      <td>Sunglasses</td>\n",
              "      <td>0.080822</td>\n",
              "      <td>False</td>\n",
              "      <td>Sunglass</td>\n",
              "      <td>0.050776</td>\n",
              "      <td>False</td>\n",
              "      <td>2479.0</td>\n",
              "      <td>5147.0</td>\n",
              "    </tr>\n",
              "  </tbody>\n",
              "</table>\n",
              "</div>"
            ],
            "text/plain": [
              "                tweet_id        date  ... retweet_count favorite_count\n",
              "1979  749981277374128128  2016-07-04  ...        2478.0         5147.0\n",
              "1980  749981277374128128  2016-07-04  ...        2479.0         5147.0\n",
              "\n",
              "[2 rows x 21 columns]"
            ]
          },
          "metadata": {
            "tags": []
          },
          "execution_count": 140
        }
      ]
    },
    {
      "cell_type": "markdown",
      "metadata": {
        "id": "_ZgtiKPMTj_d",
        "colab_type": "text"
      },
      "source": [
        "**The highest rated dog is named Atticus. The number of favorites is 5525 and 5523.**"
      ]
    },
    {
      "cell_type": "code",
      "metadata": {
        "id": "Rt662WfCTl-J",
        "colab_type": "code",
        "outputId": "010b58fe-ed87-45f9-be3e-a6472b922c93",
        "colab": {
          "base_uri": "https://localhost:8080/",
          "height": 335
        }
      },
      "source": [
        "#check the lowest rating numerator\n",
        "twitter_master[twitter_master.rating_numerator == 2]"
      ],
      "execution_count": 0,
      "outputs": [
        {
          "output_type": "execute_result",
          "data": {
            "text/html": [
              "<div>\n",
              "<style scoped>\n",
              "    .dataframe tbody tr th:only-of-type {\n",
              "        vertical-align: middle;\n",
              "    }\n",
              "\n",
              "    .dataframe tbody tr th {\n",
              "        vertical-align: top;\n",
              "    }\n",
              "\n",
              "    .dataframe thead th {\n",
              "        text-align: right;\n",
              "    }\n",
              "</style>\n",
              "<table border=\"1\" class=\"dataframe\">\n",
              "  <thead>\n",
              "    <tr style=\"text-align: right;\">\n",
              "      <th></th>\n",
              "      <th>tweet_id</th>\n",
              "      <th>date</th>\n",
              "      <th>text</th>\n",
              "      <th>img_url</th>\n",
              "      <th>rating_numerator</th>\n",
              "      <th>rating_denominator</th>\n",
              "      <th>name</th>\n",
              "      <th>dog_stage</th>\n",
              "      <th>jpg_url</th>\n",
              "      <th>img_num</th>\n",
              "      <th>p1</th>\n",
              "      <th>p1_conf</th>\n",
              "      <th>p1_dog</th>\n",
              "      <th>p2</th>\n",
              "      <th>p2_conf</th>\n",
              "      <th>p2_dog</th>\n",
              "      <th>p3</th>\n",
              "      <th>p3_conf</th>\n",
              "      <th>p3_dog</th>\n",
              "      <th>retweet_count</th>\n",
              "      <th>favorite_count</th>\n",
              "    </tr>\n",
              "  </thead>\n",
              "  <tbody>\n",
              "    <tr>\n",
              "      <th>2924</th>\n",
              "      <td>678424312106393600</td>\n",
              "      <td>2015-12-20</td>\n",
              "      <td>This is Crystal. She's a shitty fireman. No se...</td>\n",
              "      <td>https://twitter.com/dog_rates/status/678424312...</td>\n",
              "      <td>2</td>\n",
              "      <td>10</td>\n",
              "      <td>Crystal</td>\n",
              "      <td>None</td>\n",
              "      <td>https://pbs.twimg.com/media/CWo_T8gW4AAgJNo.jpg</td>\n",
              "      <td>1.0</td>\n",
              "      <td>Maltese_Dog</td>\n",
              "      <td>0.759945</td>\n",
              "      <td>True</td>\n",
              "      <td>Toy_Poodle</td>\n",
              "      <td>0.101194</td>\n",
              "      <td>True</td>\n",
              "      <td>Shih-Tzu</td>\n",
              "      <td>0.056037</td>\n",
              "      <td>True</td>\n",
              "      <td>2517.0</td>\n",
              "      <td>5429.0</td>\n",
              "    </tr>\n",
              "    <tr>\n",
              "      <th>3046</th>\n",
              "      <td>674265582246694913</td>\n",
              "      <td>2015-12-08</td>\n",
              "      <td>This is Henry. He's a shit dog. Short pointy e...</td>\n",
              "      <td>https://twitter.com/dog_rates/status/674265582...</td>\n",
              "      <td>2</td>\n",
              "      <td>10</td>\n",
              "      <td>Henry</td>\n",
              "      <td>None</td>\n",
              "      <td>https://pbs.twimg.com/media/CVt49k_WsAAtNYC.jpg</td>\n",
              "      <td>1.0</td>\n",
              "      <td>Slug</td>\n",
              "      <td>0.998075</td>\n",
              "      <td>False</td>\n",
              "      <td>Ice_Lolly</td>\n",
              "      <td>0.000984</td>\n",
              "      <td>False</td>\n",
              "      <td>Leafhopper</td>\n",
              "      <td>0.000097</td>\n",
              "      <td>False</td>\n",
              "      <td>817.0</td>\n",
              "      <td>1596.0</td>\n",
              "    </tr>\n",
              "  </tbody>\n",
              "</table>\n",
              "</div>"
            ],
            "text/plain": [
              "                tweet_id        date  ... retweet_count favorite_count\n",
              "2924  678424312106393600  2015-12-20  ...        2517.0         5429.0\n",
              "3046  674265582246694913  2015-12-08  ...         817.0         1596.0\n",
              "\n",
              "[2 rows x 21 columns]"
            ]
          },
          "metadata": {
            "tags": []
          },
          "execution_count": 141
        }
      ]
    },
    {
      "cell_type": "markdown",
      "metadata": {
        "id": "ecLeui3hTosK",
        "colab_type": "text"
      },
      "source": [
        "**The smallest rating are given to Crystal and Henry.**"
      ]
    },
    {
      "cell_type": "code",
      "metadata": {
        "id": "Ureie9ubTqwV",
        "colab_type": "code",
        "outputId": "e02274fe-0e7f-4c97-9458-b9c9b3823e65",
        "colab": {
          "base_uri": "https://localhost:8080/",
          "height": 312
        }
      },
      "source": [
        "#create histogram for likes\n",
        "plt.hist(twitter_master['favorite_count']);\n",
        "plt.title('Distribution of Likes')\n",
        "plt.xlabel('Number of Likes')\n",
        "plt.ylabel('Count')"
      ],
      "execution_count": 0,
      "outputs": [
        {
          "output_type": "execute_result",
          "data": {
            "text/plain": [
              "Text(0, 0.5, 'Count')"
            ]
          },
          "metadata": {
            "tags": []
          },
          "execution_count": 142
        },
        {
          "output_type": "display_data",
          "data": {
            "image/png": "[encoded data removed]",
            "text/plain": [
              "<Figure size 432x288 with 1 Axes>"
            ]
          },
          "metadata": {
            "tags": [],
            "needs_background": "light"
          }
        }
      ]
    },
    {
      "cell_type": "code",
      "metadata": {
        "id": "VgCuJU70TszG",
        "colab_type": "code",
        "outputId": "406a21d8-6d7c-4fb8-dff2-79c4a76fcdd2",
        "colab": {
          "base_uri": "https://localhost:8080/",
          "height": 34
        }
      },
      "source": [
        "#median number of likes\n",
        "twitter_master.favorite_count.median()"
      ],
      "execution_count": 0,
      "outputs": [
        {
          "output_type": "execute_result",
          "data": {
            "text/plain": [
              "6128.0"
            ]
          },
          "metadata": {
            "tags": []
          },
          "execution_count": 143
        }
      ]
    },
    {
      "cell_type": "code",
      "metadata": {
        "id": "4xNEVHtQTutG",
        "colab_type": "code",
        "outputId": "b710c6a9-5aae-43b6-86a7-d45df08d8153",
        "colab": {
          "base_uri": "https://localhost:8080/",
          "height": 69
        }
      },
      "source": [
        "#view the dog that has the highest number of likes\n",
        "twitter_master[twitter_master.favorite_count == 124644]"
      ],
      "execution_count": 0,
      "outputs": [
        {
          "output_type": "execute_result",
          "data": {
            "text/html": [
              "<div>\n",
              "<style scoped>\n",
              "    .dataframe tbody tr th:only-of-type {\n",
              "        vertical-align: middle;\n",
              "    }\n",
              "\n",
              "    .dataframe tbody tr th {\n",
              "        vertical-align: top;\n",
              "    }\n",
              "\n",
              "    .dataframe thead th {\n",
              "        text-align: right;\n",
              "    }\n",
              "</style>\n",
              "<table border=\"1\" class=\"dataframe\">\n",
              "  <thead>\n",
              "    <tr style=\"text-align: right;\">\n",
              "      <th></th>\n",
              "      <th>tweet_id</th>\n",
              "      <th>date</th>\n",
              "      <th>text</th>\n",
              "      <th>img_url</th>\n",
              "      <th>rating_numerator</th>\n",
              "      <th>rating_denominator</th>\n",
              "      <th>name</th>\n",
              "      <th>dog_stage</th>\n",
              "      <th>jpg_url</th>\n",
              "      <th>img_num</th>\n",
              "      <th>p1</th>\n",
              "      <th>p1_conf</th>\n",
              "      <th>p1_dog</th>\n",
              "      <th>p2</th>\n",
              "      <th>p2_conf</th>\n",
              "      <th>p2_dog</th>\n",
              "      <th>p3</th>\n",
              "      <th>p3_conf</th>\n",
              "      <th>p3_dog</th>\n",
              "      <th>retweet_count</th>\n",
              "      <th>favorite_count</th>\n",
              "    </tr>\n",
              "  </thead>\n",
              "  <tbody>\n",
              "  </tbody>\n",
              "</table>\n",
              "</div>"
            ],
            "text/plain": [
              "Empty DataFrame\n",
              "Columns: [tweet_id, date, text, img_url, rating_numerator, rating_denominator, name, dog_stage, jpg_url, img_num, p1, p1_conf, p1_dog, p2, p2_conf, p2_dog, p3, p3_conf, p3_dog, retweet_count, favorite_count]\n",
              "Index: []"
            ]
          },
          "metadata": {
            "tags": []
          },
          "execution_count": 144
        }
      ]
    },
    {
      "cell_type": "code",
      "metadata": {
        "id": "4Sv66zXhTv2q",
        "colab_type": "code",
        "outputId": "f6c1e426-b7f8-4f9d-b070-d6fbc4ff50cf",
        "colab": {
          "base_uri": "https://localhost:8080/",
          "height": 312
        }
      },
      "source": [
        "#create scatter plot between retweets and favorites\n",
        "plt.scatter(twitter_master['retweet_count'], twitter_master['favorite_count']);\n",
        "plt.title('Likes vs. Retweets')\n",
        "plt.xlabel('Retweets')\n",
        "plt.ylabel('Likes')"
      ],
      "execution_count": 0,
      "outputs": [
        {
          "output_type": "execute_result",
          "data": {
            "text/plain": [
              "Text(0, 0.5, 'Likes')"
            ]
          },
          "metadata": {
            "tags": []
          },
          "execution_count": 145
        },
        {
          "output_type": "display_data",
          "data": {
            "image/png": "[encoded data removed]",
            "text/plain": [
              "<Figure size 432x288 with 1 Axes>"
            ]
          },
          "metadata": {
            "tags": [],
            "needs_background": "light"
          }
        }
      ]
    },
    {
      "cell_type": "markdown",
      "metadata": {
        "id": "CwOXRTNnUKm_",
        "colab_type": "text"
      },
      "source": [
        "**There is a strong positive correlation between retweets and favorites.**"
      ]
    }
  ]
}